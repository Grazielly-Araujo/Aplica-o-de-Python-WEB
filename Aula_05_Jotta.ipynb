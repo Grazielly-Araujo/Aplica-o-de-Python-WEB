{
  "nbformat": 4,
  "nbformat_minor": 0,
  "metadata": {
    "colab": {
      "provenance": [],
      "collapsed_sections": [],
      "authorship_tag": "ABX9TyPTnCVXjaMyIfCn4t6+7uAH",
      "include_colab_link": true
    },
    "kernelspec": {
      "name": "python3",
      "display_name": "Python 3"
    },
    "language_info": {
      "name": "python"
    }
  },
  "cells": [
    {
      "cell_type": "markdown",
      "metadata": {
        "id": "view-in-github",
        "colab_type": "text"
      },
      "source": [
        "<a href=\"https://colab.research.google.com/github/Jefferson-Borges-Dev/Aplica-o-de-Python-WEB/blob/main/Aula_05_Jotta.ipynb\" target=\"_parent\"><img src=\"https://colab.research.google.com/assets/colab-badge.svg\" alt=\"Open In Colab\"/></a>"
      ]
    },
    {
      "cell_type": "code",
      "execution_count": null,
      "metadata": {
        "colab": {
          "base_uri": "https://localhost:8080/"
        },
        "id": "JsPx4FK6yHks",
        "outputId": "8d9fbf8a-d195-43a8-da69-20d8de308349"
      },
      "outputs": [
        {
          "output_type": "stream",
          "name": "stdout",
          "text": [
            "Help on built-in function append:\n",
            "\n",
            "append(object, /) method of builtins.list instance\n",
            "    Append object to the end of the list.\n",
            "\n"
          ]
        }
      ],
      "source": [
        "lista = []\n",
        "help(lista.append)"
      ]
    },
    {
      "cell_type": "code",
      "source": [
        "dir(list)"
      ],
      "metadata": {
        "colab": {
          "base_uri": "https://localhost:8080/"
        },
        "id": "BawTFLHZ4s7B",
        "outputId": "b589ba43-7791-4bb9-efc9-769e838330e6"
      },
      "execution_count": null,
      "outputs": [
        {
          "output_type": "execute_result",
          "data": {
            "text/plain": [
              "['__add__',\n",
              " '__class__',\n",
              " '__contains__',\n",
              " '__delattr__',\n",
              " '__delitem__',\n",
              " '__dir__',\n",
              " '__doc__',\n",
              " '__eq__',\n",
              " '__format__',\n",
              " '__ge__',\n",
              " '__getattribute__',\n",
              " '__getitem__',\n",
              " '__gt__',\n",
              " '__hash__',\n",
              " '__iadd__',\n",
              " '__imul__',\n",
              " '__init__',\n",
              " '__init_subclass__',\n",
              " '__iter__',\n",
              " '__le__',\n",
              " '__len__',\n",
              " '__lt__',\n",
              " '__mul__',\n",
              " '__ne__',\n",
              " '__new__',\n",
              " '__reduce__',\n",
              " '__reduce_ex__',\n",
              " '__repr__',\n",
              " '__reversed__',\n",
              " '__rmul__',\n",
              " '__setattr__',\n",
              " '__setitem__',\n",
              " '__sizeof__',\n",
              " '__str__',\n",
              " '__subclasshook__',\n",
              " 'append',\n",
              " 'clear',\n",
              " 'copy',\n",
              " 'count',\n",
              " 'extend',\n",
              " 'index',\n",
              " 'insert',\n",
              " 'pop',\n",
              " 'remove',\n",
              " 'reverse',\n",
              " 'sort']"
            ]
          },
          "metadata": {},
          "execution_count": 2
        }
      ]
    },
    {
      "cell_type": "code",
      "source": [
        "class NomeDeClasse():\n",
        "  def __init__(self):\n",
        "    self.atributo1 = valor1\n",
        "    self.atributon = valorn\n",
        "  def exemploDeFuncao(self):\n",
        "    return \"Essa é a função!\"\n",
        "  def exemplodeMetodo(self):\n",
        "    print(\"Esse é o método!\")  "
      ],
      "metadata": {
        "id": "AknLiiWP5NMw"
      },
      "execution_count": null,
      "outputs": []
    },
    {
      "cell_type": "code",
      "source": [
        "class ContaCorrente():\n",
        "  def __init__(self):\n",
        "    self.numConta = 159\n",
        "    self.nomeDoTitular = \"Jefferson\"\n",
        "    self.saldo = 10,00\n",
        "\n",
        "  def __init__(self, numConta, nomeDoTitular):\n",
        "    self.numConta = numConta\n",
        "    self.nomeDoTitular = nomeDoTitular  \n",
        "\n",
        "  def __init__(self, numConta, nomeDoTitular, saldo):\n",
        "    self.numConta = numConta\n",
        "    self.nomeDoTitular = nomeDoTitular\n",
        "    self.saldo = saldo\n",
        "\n",
        "\n",
        "  def metodo(self, arg1 , arg2, etc):\n",
        "    #print(arg1, arg2 )  "
      ],
      "metadata": {
        "colab": {
          "base_uri": "https://localhost:8080/",
          "height": 130
        },
        "id": "C0fL36UWARIO",
        "outputId": "47bf46ff-167b-451f-d09a-e200c34de312"
      },
      "execution_count": null,
      "outputs": [
        {
          "output_type": "error",
          "ename": "SyntaxError",
          "evalue": "ignored",
          "traceback": [
            "\u001b[0;36m  File \u001b[0;32m\"<ipython-input-10-17f36c578192>\"\u001b[0;36m, line \u001b[0;32m18\u001b[0m\n\u001b[0;31m    #print(arg1, arg2 )\u001b[0m\n\u001b[0m                         ^\u001b[0m\n\u001b[0;31mSyntaxError\u001b[0m\u001b[0;31m:\u001b[0m unexpected EOF while parsing\n"
          ]
        }
      ]
    },
    {
      "cell_type": "code",
      "source": [
        "#sobrecarga de função. \n",
        "\n",
        "class Lar():\n",
        "  def toctoc(self, pessoa1 = None, pessoa2 = None):\n",
        "    if pessoa1 is not None and pessoa2 is None:\n",
        "      print(\"olá \" + pessoa1)\n",
        "    elif pessoa1 is not None and pessoa2 is not None:\n",
        "      print(\"Olá \"+ pessoa1 + \" e \" + pessoa2)\n",
        "    else:\n",
        "      print(\"Quem esta ai? \")\n",
        "batendoNaporta = Lar()      \n",
        "\n",
        "batendoNaporta.toctoc()\n",
        "batendoNaporta.toctoc('Rick', 'Morty')\n",
        "batendoNaporta.toctoc('Professora Amanda')"
      ],
      "metadata": {
        "colab": {
          "base_uri": "https://localhost:8080/"
        },
        "id": "N4JgAqVUB7yQ",
        "outputId": "1511971d-1fc4-43c4-f458-6aff5b243c7f"
      },
      "execution_count": null,
      "outputs": [
        {
          "output_type": "stream",
          "name": "stdout",
          "text": [
            "Quem esta ai? \n",
            "Olá Rick e Morty\n",
            "olá Professora Amanda\n"
          ]
        }
      ]
    },
    {
      "cell_type": "code",
      "source": [
        "#criando uma classe\n",
        "class Animal():\n",
        "\n",
        "  #construtor da class\n",
        "  def __init__(self, nome , weight, color):\n",
        "    #Atributos\n",
        "    self.nome = nome\n",
        "    self.peso = weight\n",
        "    self.corDoPelo = color\n",
        "\n",
        "  def imprimirDados(self):\n",
        "    return(\"Nome: %s \\nPeso: %s\" %(self.nome, self.peso))\n",
        "\n",
        "  def latir(self, barulho):\n",
        "    print(barulho)    "
      ],
      "metadata": {
        "id": "qOiN5E_yFFqX"
      },
      "execution_count": null,
      "outputs": []
    },
    {
      "cell_type": "code",
      "source": [
        "caozinho = Animal(\"Marlene\", 7.9, \"Caaramelo\")\n",
        "gato = Animal(\"Cibele\", 4.5 , \"Cinza\")\n",
        "print(caozinho.imprimirDados())\n",
        "caozinho.latir(\"Au, Au!\")\n",
        "print(gato.imprimirDados())\n",
        "gato.latir(\"Miau!\")"
      ],
      "metadata": {
        "colab": {
          "base_uri": "https://localhost:8080/"
        },
        "id": "kDM3X9fIJCIJ",
        "outputId": "cd74a965-4917-48c2-a612-953779c4ba3b"
      },
      "execution_count": null,
      "outputs": [
        {
          "output_type": "stream",
          "name": "stdout",
          "text": [
            "Nome: Marlene \n",
            "Peso: 7.9\n",
            "Au, Au!\n",
            "Nome: Cibele \n",
            "Peso: 4.5\n",
            "Miau!\n"
          ]
        }
      ]
    },
    {
      "cell_type": "code",
      "source": [
        "class Livro():\n",
        "\n",
        "# Este Método vai inicializar cada Objeto criado a partir desta classe\n",
        "# O nome deste método é __Init__\n",
        "# (Self) é uma referencia a cada atributo de um objeto criado a partir deta classe\n",
        "  def __init__(self):\n",
        "    \n",
        "    # Atributos de cda objeto criado a partir desta classe.\n",
        "    #O self indica que estes são atributos dos objetos. \n",
        "    self.titulo = \"O Monge e o Executivo\"\n",
        "    self.isbn = 9988888\n",
        "    print(\"Constutor chamado para criar um objeto desta classe\")\n",
        "\n",
        "  def imprime(self):\n",
        "    print(\"Foi criado o livro %s e ISBN %d\" %(self.titulo, self.isbn))   "
      ],
      "metadata": {
        "id": "8K4qxhY9L05L"
      },
      "execution_count": null,
      "outputs": []
    },
    {
      "cell_type": "code",
      "source": [
        "#Criando uma instancia da classe Livro\n",
        "Livro1 = Livro()\n",
        "# Tipo do Objeto Livro1\n",
        "type(Livro1)"
      ],
      "metadata": {
        "colab": {
          "base_uri": "https://localhost:8080/"
        },
        "id": "TLMvhKcGRZFP",
        "outputId": "6d5d61fb-012f-43fb-c111-c90e49163af9"
      },
      "execution_count": null,
      "outputs": [
        {
          "output_type": "stream",
          "name": "stdout",
          "text": [
            "Constutor chamado para criar um objeto desta classe\n"
          ]
        },
        {
          "output_type": "execute_result",
          "data": {
            "text/plain": [
              "__main__.Livro"
            ]
          },
          "metadata": {},
          "execution_count": 31
        }
      ]
    },
    {
      "cell_type": "code",
      "source": [
        "Livro1.titulo"
      ],
      "metadata": {
        "colab": {
          "base_uri": "https://localhost:8080/",
          "height": 36
        },
        "id": "K8CC1N0XSLxB",
        "outputId": "befc32fc-e6fa-4eb1-c71c-d17b0feae2ce"
      },
      "execution_count": null,
      "outputs": [
        {
          "output_type": "execute_result",
          "data": {
            "text/plain": [
              "'O Monge e o Executivo'"
            ],
            "application/vnd.google.colaboratory.intrinsic+json": {
              "type": "string"
            }
          },
          "metadata": {},
          "execution_count": 33
        }
      ]
    },
    {
      "cell_type": "code",
      "source": [
        "Livro1.imprime()"
      ],
      "metadata": {
        "colab": {
          "base_uri": "https://localhost:8080/"
        },
        "id": "u6HotYkzUP5u",
        "outputId": "3ee369ef-6d91-4d5d-b0d5-2f6c94405a94"
      },
      "execution_count": null,
      "outputs": [
        {
          "output_type": "stream",
          "name": "stdout",
          "text": [
            "Foi criado o livro O Monge e o Executivo e ISBN 9988888\n"
          ]
        }
      ]
    },
    {
      "cell_type": "code",
      "source": [
        "class Livro():\n",
        "  def __init__(self, titulo, isbn):\n",
        "    self.titulo = titulo\n",
        "    self.isbn = isbn\n",
        "    print(\"Contrututor chamado para criar um objeto desta classe\")\n",
        "  \n",
        "  def imprime(self, titulo, isbn):\n",
        "    print(\"este é o livro %s e ISBN %d\" %(self.titulo, self.isbn))"
      ],
      "metadata": {
        "id": "1Qpt9KxSUVK2"
      },
      "execution_count": null,
      "outputs": []
    },
    {
      "cell_type": "code",
      "source": [
        "Livro2 = Livro(\"A Menina que Roubava Livros\", 77886611)\n",
        "Livro2.titulo\n",
        "#Livro2.imprime()"
      ],
      "metadata": {
        "colab": {
          "base_uri": "https://localhost:8080/",
          "height": 53
        },
        "id": "vQdBd11TVmQP",
        "outputId": "fd9c6562-ed24-4cfc-8654-1df447013e05"
      },
      "execution_count": null,
      "outputs": [
        {
          "output_type": "stream",
          "name": "stdout",
          "text": [
            "Contrututor chamado para criar um objeto desta classe\n"
          ]
        },
        {
          "output_type": "execute_result",
          "data": {
            "text/plain": [
              "'A Menina que Roubava Livros'"
            ],
            "application/vnd.google.colaboratory.intrinsic+json": {
              "type": "string"
            }
          },
          "metadata": {},
          "execution_count": 45
        }
      ]
    },
    {
      "cell_type": "code",
      "source": [
        "# Criando a classe Animal - super-classe\n",
        "class Animal():\n",
        "  def __init__(self):\n",
        "    print(\"animal Criado\")\n",
        "\n",
        "  def Identif(salf):\n",
        "    print(\"Animal\")\n",
        "    \n",
        "  def comer(self):\n",
        "    print(\"comendo\")\n",
        "\n"
      ],
      "metadata": {
        "id": "w1fOw9hyVxjZ"
      },
      "execution_count": null,
      "outputs": []
    },
    {
      "cell_type": "code",
      "source": [
        "class ClasseMae():\n",
        "  def __init__ (self, atributo1):\n",
        "    self.atributo1 = atributo1\n",
        "    print(\"Essa é a classe Mãe!\")\n",
        "\n",
        "class ClasseFilha(ClasseMae):\n",
        "  def __init__ (self, atributo1, atributo2):\n",
        "    super().__init__(atibuto1)\n",
        "    self.atributo2 = atibuto2\n",
        "    print(\"Essa é a classe Herdeira!\")"
      ],
      "metadata": {
        "id": "vLgGsPmlZs7Y"
      },
      "execution_count": null,
      "outputs": []
    },
    {
      "cell_type": "code",
      "source": [
        "# Criando a classe Cachorro  - Sub-classe. \n",
        "class Cachorro(Animal):\n",
        "  def __init__(self):\n",
        "    Animal.__init__(self)\n",
        "    print(\"Objeto Cachorro criado\")\n",
        "\n",
        "  def Identif(self):\n",
        "    print(\"Cachorro\")  \n",
        "\n",
        "  def latir(self):\n",
        "    print(\"AU Au!\")  "
      ],
      "metadata": {
        "id": "sLm-vt26b-eh"
      },
      "execution_count": null,
      "outputs": []
    },
    {
      "cell_type": "code",
      "source": [
        "# Criando um objeto (instaciando a classe)\n",
        "rex = Cachorro()"
      ],
      "metadata": {
        "colab": {
          "base_uri": "https://localhost:8080/"
        },
        "id": "4pJggh3_cCwS",
        "outputId": "1225bbd8-decf-4130-ac15-ef2254cc951e"
      },
      "execution_count": null,
      "outputs": [
        {
          "output_type": "stream",
          "name": "stdout",
          "text": [
            "animal Criado\n",
            "Objeto Cachorro criado\n"
          ]
        }
      ]
    },
    {
      "cell_type": "code",
      "source": [
        "rex.Identif()"
      ],
      "metadata": {
        "colab": {
          "base_uri": "https://localhost:8080/"
        },
        "id": "fEc7IDBQcuBL",
        "outputId": "b06baa47-b108-4c41-83ee-1a11446ec6d5"
      },
      "execution_count": null,
      "outputs": [
        {
          "output_type": "stream",
          "name": "stdout",
          "text": [
            "Cachorro\n"
          ]
        }
      ]
    },
    {
      "cell_type": "code",
      "source": [
        "rex.comer()"
      ],
      "metadata": {
        "colab": {
          "base_uri": "https://localhost:8080/"
        },
        "id": "NzacugTfcx2K",
        "outputId": "1c0e521b-30d6-403b-a212-c51ca7c7165e"
      },
      "execution_count": null,
      "outputs": [
        {
          "output_type": "stream",
          "name": "stdout",
          "text": [
            "comendo\n"
          ]
        }
      ]
    },
    {
      "cell_type": "code",
      "source": [
        "rex.latir()"
      ],
      "metadata": {
        "colab": {
          "base_uri": "https://localhost:8080/"
        },
        "id": "rJxbq_WAc0J7",
        "outputId": "c784b17d-a7df-4dd7-dd4a-93f9a6e653ef"
      },
      "execution_count": null,
      "outputs": [
        {
          "output_type": "stream",
          "name": "stdout",
          "text": [
            "AU Au!\n"
          ]
        }
      ]
    },
    {
      "cell_type": "code",
      "source": [
        "class Pessoa():\n",
        "  def __init__(self, nome, idade):\n",
        "    self.nome = nome\n",
        "    self.idade = idade\n",
        "    print(\" O ano que você Nasceu Foi!: \", 2022 - idade )\n",
        "\n",
        "  def nascimento(self, idade):\n",
        "    return(2022-idade)\n",
        "\n",
        "jefferson = Pessoa(\"Jefferson\", 29)\n",
        "jefferson.nome\n",
        "jefferson.idade\n",
        "jefferson.nascimento(29)"
      ],
      "metadata": {
        "colab": {
          "base_uri": "https://localhost:8080/"
        },
        "id": "t_JKnrGSdR8Z",
        "outputId": "546e9b0f-5b2c-4db5-936d-bbf3557d1079"
      },
      "execution_count": 6,
      "outputs": [
        {
          "output_type": "stream",
          "name": "stdout",
          "text": [
            " O ano que você Nasceu Foi!:  1993\n"
          ]
        },
        {
          "output_type": "execute_result",
          "data": {
            "text/plain": [
              "1993"
            ]
          },
          "metadata": {},
          "execution_count": 6
        }
      ]
    },
    {
      "cell_type": "code",
      "source": [
        "listaPessoa=[]\n",
        "for i in range(5):\n",
        "  nome= str(input(\"Digite um nome: \"))\n",
        "  idade = int(input(\"Digite a idade: \"))\n",
        "  pessoa = Pessoa(nome, idade) #criando objeto pessoa com a classe Pessoa()\n",
        "  listaPessoa.append(pessoa)\n",
        "\n",
        "for objeto in range(len(listaPessoa)):\n",
        "  print(\"Nome: %s, idade: %d \" %(listaPessoa[objeto].nome, listaPessoa[objeto].idade))\n",
        "  "
      ],
      "metadata": {
        "id": "Z2UCJSsRfGBR",
        "colab": {
          "base_uri": "https://localhost:8080/"
        },
        "outputId": "d630023c-3550-4918-84ad-aaca506925d5"
      },
      "execution_count": 14,
      "outputs": [
        {
          "output_type": "stream",
          "name": "stdout",
          "text": [
            "Digite um nome: jeffers\n",
            "Digite a idade: 29\n",
            " O ano que você Nasceu Foi!:  1993\n",
            "Digite um nome: vanda\n",
            "Digite a idade: 52\n",
            " O ano que você Nasceu Foi!:  1970\n",
            "Digite um nome: bia\n",
            "Digite a idade: 35\n",
            " O ano que você Nasceu Foi!:  1987\n",
            "Digite um nome: nat\n",
            "Digite a idade: 34\n",
            " O ano que você Nasceu Foi!:  1988\n",
            "Digite um nome: gugu\n",
            "Digite a idade: 12\n",
            " O ano que você Nasceu Foi!:  2010\n",
            "Nome: jeffers, idade: 29 \n",
            "Nome: vanda, idade: 52 \n",
            "Nome: bia, idade: 35 \n",
            "Nome: nat, idade: 34 \n",
            "Nome: gugu, idade: 12 \n"
          ]
        }
      ]
    },
    {
      "cell_type": "code",
      "source": [],
      "metadata": {
        "id": "RjbpKchVwuKz"
      },
      "execution_count": null,
      "outputs": []
    }
  ]
}