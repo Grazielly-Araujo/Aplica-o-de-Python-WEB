{
  "nbformat": 4,
  "nbformat_minor": 0,
  "metadata": {
    "colab": {
      "provenance": [],
      "collapsed_sections": [],
      "authorship_tag": "ABX9TyPM+kDDZP5HLz860L6Pmt7D",
      "include_colab_link": true
    },
    "kernelspec": {
      "name": "python3",
      "display_name": "Python 3"
    },
    "language_info": {
      "name": "python"
    }
  },
  "cells": [
    {
      "cell_type": "markdown",
      "metadata": {
        "id": "view-in-github",
        "colab_type": "text"
      },
      "source": [
        "<a href=\"https://colab.research.google.com/github/Jefferson-Borges-Dev/Aplica-o-de-Python-WEB/blob/main/Aula_06_Jotta_B.ipynb\" target=\"_parent\"><img src=\"https://colab.research.google.com/assets/colab-badge.svg\" alt=\"Open In Colab\"/></a>"
      ]
    },
    {
      "cell_type": "code",
      "execution_count": null,
      "metadata": {
        "id": "LUWQLCRbGQeu"
      },
      "outputs": [],
      "source": [
        "# Aula 06 Jotta B !!"
      ]
    },
    {
      "cell_type": "code",
      "source": [
        "class Pessoa():\n",
        "  def __init__(self, nome, idade):\n",
        "    self.__nome = nome\n",
        "    self.__idade = idade\n",
        "\n",
        "  def get_nome(self):\n",
        "    return self.__nome"
      ],
      "metadata": {
        "id": "oUSewwJoKxMt"
      },
      "execution_count": null,
      "outputs": []
    },
    {
      "cell_type": "code",
      "source": [
        "class Pessoa():\n",
        "  def __init__(self, nome, idade):\n",
        "    self.__nome = nome\n",
        "    self.__idade = idade\n",
        "\n",
        "  def get_nome(self):\n",
        "    return self.__nome\n",
        "\n",
        "  def set_nome(self, novo_nome):\n",
        "    self.__nome = novo_nome"
      ],
      "metadata": {
        "id": "dVhOFqqdNZtj"
      },
      "execution_count": null,
      "outputs": []
    },
    {
      "cell_type": "code",
      "source": [
        "class Pessoa():\n",
        "  # Criando o constutor para classe Pessoa\n",
        "  def __init__(self, nome, idade):\n",
        "      # atributos privados\n",
        "    self.__nome = nome\n",
        "    self.__idade = idade\n",
        "\n",
        "  def imprimir(self):\n",
        "    print(\"Me chamo %s e tenho %d anos\" %(self.nome, self.idade))\n",
        "# criando uma instancia de Pessoa\n",
        "pessoa = Pessoa(\"Felipe\", 28)\n",
        "#chamando o metodo da classe\n",
        "pessoa.imprimir "
      ],
      "metadata": {
        "colab": {
          "base_uri": "https://localhost:8080/"
        },
        "id": "q8lvaeQrOCY8",
        "outputId": "65eaa880-c9d6-4380-e7e1-3d5b364b6518"
      },
      "execution_count": null,
      "outputs": [
        {
          "output_type": "execute_result",
          "data": {
            "text/plain": [
              "<bound method Pessoa.imprimir of <__main__.Pessoa object at 0x7f5bf0618410>>"
            ]
          },
          "metadata": {},
          "execution_count": 8
        }
      ]
    },
    {
      "cell_type": "code",
      "source": [
        "class Pessoa():\n",
        "  # Criando o constutor para classe Pessoa\n",
        "  def __init__(self, nome, idade):\n",
        "      # atributos privados\n",
        "    self.__nome = nome\n",
        "    self.__idade = idade\n",
        "    # declarando nossos metodos de acesso dos atributos da classe\n",
        "  def getNome(self):\n",
        "    return self.__nome\n",
        "\n",
        "  def getIdade(self):\n",
        "    return self.__idade\n",
        "    # declarando nosso metodos modificadores dos atributos da classe\n",
        "  \n",
        "  def setNome(self, nome):\n",
        "    self.__nome = nome\n",
        "\n",
        "  def setIdade(self, idade):\n",
        "    self.__nome = idade\n",
        "\n",
        "  def imprimir(self):\n",
        "    print(\"Me chamo %s e tenho %d anos\" %(self.getNome(), self.getIdade()))"
      ],
      "metadata": {
        "id": "swQCsXZsPFhs"
      },
      "execution_count": null,
      "outputs": []
    },
    {
      "cell_type": "code",
      "source": [
        "# criando uma instancia de Pessoa\n",
        "pessoa = Pessoa(\"felipe\", 28)\n",
        "\n",
        "# chamando o metodo da classe\n",
        "pessoa.imprimir\n",
        "\n",
        "# mudadndo o calor do nome usando o metodo modificador\n",
        "pessoa.setNome(\"Paulo\")\n",
        "\n",
        "# chamando o metodo da classe\n",
        "pessoa.imprimir "
      ],
      "metadata": {
        "colab": {
          "base_uri": "https://localhost:8080/"
        },
        "id": "x2PCMtM-Rfdt",
        "outputId": "b2f2ff77-17a9-48bd-84bb-03a909cec57d"
      },
      "execution_count": null,
      "outputs": [
        {
          "output_type": "execute_result",
          "data": {
            "text/plain": [
              "<bound method Pessoa.imprimir of <__main__.Pessoa object at 0x7f5bf057b950>>"
            ]
          },
          "metadata": {},
          "execution_count": 15
        }
      ]
    },
    {
      "cell_type": "code",
      "source": [
        "def nome_funcao(par1, par2):\n",
        "  instrucao_1\n",
        "  instrucao_2\n",
        "  instrucao_3\n",
        "  return resultado"
      ],
      "metadata": {
        "colab": {
          "base_uri": "https://localhost:8080/",
          "height": 36
        },
        "id": "tXOYZfweTBW4",
        "outputId": "703973d8-4cb9-43f8-ac73-0a66028b97b6"
      },
      "execution_count": null,
      "outputs": [
        {
          "output_type": "execute_result",
          "data": {
            "text/plain": [
              "'def nome_funcao(par1, par2):\\n  instrucao_1\\n  instrucao_2\\n  instrucao_3\\n  return resultado'"
            ],
            "application/vnd.google.colaboratory.intrinsic+json": {
              "type": "string"
            }
          },
          "metadata": {},
          "execution_count": 16
        }
      ]
    },
    {
      "cell_type": "code",
      "source": [
        "\n",
        "def foo()\n",
        "  print(\"funçção 'foo' foi executada\")\n",
        "  print(\"Como não ha parãmetros, o comportametno dal função sempre será o mesmo\")\n"
      ],
      "metadata": {
        "colab": {
          "base_uri": "https://localhost:8080/",
          "height": 36
        },
        "id": "ZTiBspBWUPDg",
        "outputId": "95964847-1b8e-4818-9516-3d5254c7b4e2"
      },
      "execution_count": null,
      "outputs": [
        {
          "output_type": "execute_result",
          "data": {
            "text/plain": [
              "'\\ndef foo()\\n  print(\"funçção \\'foo\\' foi executada\")\\n  print(\"Como não ha parãmetros, o comportametno dal função sempre será o mesmo\")\\n\\n'"
            ],
            "application/vnd.google.colaboratory.intrinsic+json": {
              "type": "string"
            }
          },
          "metadata": {},
          "execution_count": 18
        }
      ]
    },
    {
      "cell_type": "code",
      "source": [
        "\n",
        "def bar(par1):\n",
        "  print(\"Função 'bar' foi executada\")\n",
        "  print(f\"Parametro par1 recebe {par1} como valor (argumento)\")\n",
        "\n"
      ],
      "metadata": {
        "colab": {
          "base_uri": "https://localhost:8080/",
          "height": 36
        },
        "id": "ls80MJ_8URJv",
        "outputId": "ab663fc0-3928-4e94-d2cf-ae803dc8cb44"
      },
      "execution_count": null,
      "outputs": [
        {
          "output_type": "execute_result",
          "data": {
            "text/plain": [
              "'\\ndef bar(par1):\\n  print(\"Função \\'bar\\' foi executada\")\\n  print(f\"Parametro par1 recebe {par1} como valor (argumento)\")\\n\\n'"
            ],
            "application/vnd.google.colaboratory.intrinsic+json": {
              "type": "string"
            }
          },
          "metadata": {},
          "execution_count": 19
        }
      ]
    },
    {
      "cell_type": "code",
      "source": [
        "bar('santos')"
      ],
      "metadata": {
        "id": "R2Wo8_7xVS-m"
      },
      "execution_count": null,
      "outputs": []
    },
    {
      "cell_type": "code",
      "source": [
        "def baz(par1 , par2):\n",
        "  print(\"função 'baz foi executada\")\n",
        "  print(f\"Parãmetro par1 recebe argumento {par1}\")\n",
        "  print(f\"Parãmetro par2 recebe argumento {par2}\")"
      ],
      "metadata": {
        "id": "ubMtm6hMVZ6u"
      },
      "execution_count": null,
      "outputs": []
    },
    {
      "cell_type": "code",
      "source": [
        "baz(\"Santos\", \"Dumont\")"
      ],
      "metadata": {
        "id": "dNuOkG9GV3uO"
      },
      "execution_count": null,
      "outputs": []
    },
    {
      "cell_type": "code",
      "source": [
        "def baz2(par1, par2=\"barney\"):\n",
        "  print(\"função 'baz foi executada\")\n",
        "  print(f\"Parãmetro par1 recebe argumento {par1}\")\n",
        "  print(f\"Parãmetro par2 recebe argumento {par2}\")"
      ],
      "metadata": {
        "id": "xOxb2cD6V_S3"
      },
      "execution_count": null,
      "outputs": []
    },
    {
      "cell_type": "code",
      "source": [
        "baz2(par2=\"Dumon\", par1=\"Santos\")   # Mudando a ordem impressa só precisa atribuar a outra \"variavel\"   par1 = Dumont, par2 = Santos"
      ],
      "metadata": {
        "id": "mTqPXfhWWSCG"
      },
      "execution_count": null,
      "outputs": []
    },
    {
      "cell_type": "code",
      "source": [
        "def adicao(n1,n2):\n",
        "  res = n1 + n2\n",
        "  return res\n",
        "adicao(3,7)"
      ],
      "metadata": {
        "colab": {
          "base_uri": "https://localhost:8080/"
        },
        "id": "7YkCGF4QWtVn",
        "outputId": "86f4df78-1d63-4271-dd60-e4d09efea7e0"
      },
      "execution_count": null,
      "outputs": [
        {
          "output_type": "execute_result",
          "data": {
            "text/plain": [
              "10"
            ]
          },
          "metadata": {},
          "execution_count": 22
        }
      ]
    },
    {
      "cell_type": "code",
      "source": [
        "def subtracao(n1,n2):\n",
        "  res = n1 - n2\n",
        "  return res\n",
        "\n",
        "def multiplicacao(n1,n2):\n",
        "  res = n1 * n2\n",
        "  return res\n",
        "\n",
        "def divisao(n1,n2):\n",
        "  res = n1 / n2\n",
        "  return res\n",
        "\n",
        "\n",
        "\n"
      ],
      "metadata": {
        "id": "DUGp4KO8W_mA"
      },
      "execution_count": null,
      "outputs": []
    },
    {
      "cell_type": "code",
      "source": [
        "u = adicao(a,b)\n",
        "v = subtracao(d,c)\n",
        "w = multiplicacao(u,v)\n",
        "x = divisao(w,2)\n"
      ],
      "metadata": {
        "id": "f_qKE2PPYAp2"
      },
      "execution_count": null,
      "outputs": []
    },
    {
      "cell_type": "code",
      "source": [
        "divisao( multiplicacao(adicao(a,b), subtracao(d,c)),2)"
      ],
      "metadata": {
        "id": "oRLo1j7vYQAZ"
      },
      "execution_count": null,
      "outputs": []
    },
    {
      "cell_type": "code",
      "source": [
        "lambda x p1,p2,p3: !!!expressão!!!"
      ],
      "metadata": {
        "id": "OMWFm1d6YiNu"
      },
      "execution_count": null,
      "outputs": []
    },
    {
      "cell_type": "code",
      "source": [
        "lambda x: x**2"
      ],
      "metadata": {
        "id": "4pnivL-5YwiI"
      },
      "execution_count": null,
      "outputs": []
    },
    {
      "cell_type": "code",
      "source": [
        "<functio __main__.<lambda>(x>)"
      ],
      "metadata": {
        "id": "iGJnoWN8Y6Xv"
      },
      "execution_count": null,
      "outputs": []
    },
    {
      "cell_type": "code",
      "source": [
        "(lambda x: x**2)(2)"
      ],
      "metadata": {
        "colab": {
          "base_uri": "https://localhost:8080/"
        },
        "id": "aXeKkmR4ZJSP",
        "outputId": "f248331a-2298-4d0b-a506-89c74bf551a2"
      },
      "execution_count": null,
      "outputs": [
        {
          "output_type": "execute_result",
          "data": {
            "text/plain": [
              "4"
            ]
          },
          "metadata": {},
          "execution_count": 28
        }
      ]
    },
    {
      "cell_type": "code",
      "source": [
        "(lambda x: x**3)(2)"
      ],
      "metadata": {
        "colab": {
          "base_uri": "https://localhost:8080/"
        },
        "id": "UwVws69qZVOJ",
        "outputId": "7adfec20-c056-482a-c0b8-4d11b61b9790"
      },
      "execution_count": null,
      "outputs": [
        {
          "output_type": "execute_result",
          "data": {
            "text/plain": [
              "8"
            ]
          },
          "metadata": {},
          "execution_count": 29
        }
      ]
    },
    {
      "cell_type": "code",
      "source": [
        "(lambda x: x**4)(2)"
      ],
      "metadata": {
        "colab": {
          "base_uri": "https://localhost:8080/"
        },
        "id": "GRSSy8u_Zl6X",
        "outputId": "e53c5970-8902-488f-8c0f-48f0fd87bd1b"
      },
      "execution_count": null,
      "outputs": [
        {
          "output_type": "execute_result",
          "data": {
            "text/plain": [
              "16"
            ]
          },
          "metadata": {},
          "execution_count": 30
        }
      ]
    },
    {
      "cell_type": "code",
      "source": [
        "exp2 = lambda x : x**2\n",
        "exp3 = lambda x : x**3\n",
        "exp4 = lambda x : x**4"
      ],
      "metadata": {
        "id": "7gROECEoZ3zY"
      },
      "execution_count": null,
      "outputs": []
    },
    {
      "cell_type": "code",
      "source": [
        "print( exp2(2) )\n",
        "print( exp3(3) )\n",
        "print( exp4(4) )"
      ],
      "metadata": {
        "colab": {
          "base_uri": "https://localhost:8080/"
        },
        "id": "YsKFUNyCaHgo",
        "outputId": "c7f728dd-74ad-42b2-dc34-975077070519"
      },
      "execution_count": null,
      "outputs": [
        {
          "output_type": "stream",
          "name": "stdout",
          "text": [
            "4\n",
            "27\n",
            "256\n"
          ]
        }
      ]
    },
    {
      "cell_type": "code",
      "source": [
        "exp = lambda x,p=2? x**p\n",
        "\n",
        "print( exp(2) ) #por default, a potencia é 2\n",
        "print( exp(2,2) )\n",
        "print( exp(2,3) )\n",
        "print( exp(2,4) )"
      ],
      "metadata": {
        "id": "Kx4j9IPraSZP"
      },
      "execution_count": null,
      "outputs": []
    },
    {
      "cell_type": "code",
      "source": [
        "class Vehicle():\n",
        "\n",
        "  def __init__(self, type , model, manufacturer, seat_capacity):\n",
        "    self.type = type\n",
        "    self.model = model\n",
        "    self.manufacturer = manufacturer\n",
        "    self.seat_capacity= seat_capacity"
      ],
      "metadata": {
        "id": "fwvJWnBSbBvw"
      },
      "execution_count": null,
      "outputs": []
    },
    {
      "cell_type": "code",
      "source": [
        "myPlane = Vehicle(\"plane\", \"a320\", \"Airbus\", 180)\n",
        "myCar = Vehicle(\"car\", model= \"uno\", manufacturer= \"fiat\", seat_capacity=5)"
      ],
      "metadata": {
        "id": "HQym8rZib9xB"
      },
      "execution_count": null,
      "outputs": []
    },
    {
      "cell_type": "code",
      "source": [
        "print(myPlane.type)\n",
        "print(myPlane.manufacturer)\n",
        "print(myPlane.model)\n",
        "print(myPlane.seat_capacity)"
      ],
      "metadata": {
        "colab": {
          "base_uri": "https://localhost:8080/"
        },
        "id": "sCZrxzSZcfFA",
        "outputId": "52610e10-0248-4493-f0e0-c5e03ea9077c"
      },
      "execution_count": null,
      "outputs": [
        {
          "output_type": "stream",
          "name": "stdout",
          "text": [
            "plane\n",
            "Airbus\n",
            "a320\n",
            "180\n"
          ]
        }
      ]
    },
    {
      "cell_type": "code",
      "source": [
        "print(myCar.type)\n",
        "print(myCar.manufacturer)\n",
        "print(myCar.model)\n",
        "print(myCar.seat_capacity)"
      ],
      "metadata": {
        "colab": {
          "base_uri": "https://localhost:8080/"
        },
        "id": "2N6BWSiJc7xw",
        "outputId": "dba7e568-f104-470c-9e07-fd14b61843fb"
      },
      "execution_count": null,
      "outputs": [
        {
          "output_type": "stream",
          "name": "stdout",
          "text": [
            "car\n",
            "fiat\n",
            "uno\n",
            "5\n"
          ]
        }
      ]
    },
    {
      "cell_type": "code",
      "source": [
        "myPlane.model = \"a321\"\n",
        "myPlane.model"
      ],
      "metadata": {
        "colab": {
          "base_uri": "https://localhost:8080/",
          "height": 36
        },
        "id": "avVD-6j-dhbQ",
        "outputId": "0ff22658-e29a-424a-9aae-c28d75e5e60b"
      },
      "execution_count": null,
      "outputs": [
        {
          "output_type": "execute_result",
          "data": {
            "text/plain": [
              "'a321'"
            ],
            "application/vnd.google.colaboratory.intrinsic+json": {
              "type": "string"
            }
          },
          "metadata": {},
          "execution_count": 40
        }
      ]
    },
    {
      "cell_type": "code",
      "source": [
        "\"\"\"        # calsse\n",
        "  GET <=== #constutor <==== SET  \"\"\"\n",
        "\n",
        "class Vehicle():\n",
        "\n",
        "  def __init__(self, type , model, manufacturer, seat_capacity):\n",
        "    self.type = type\n",
        "    self.model = model\n",
        "    self.manufacturer = manufacturer\n",
        "    self.seat_capacity= seat_capacity                                \n",
        "  def getModel(self) :\n",
        "    return f\"{self.manufacturer} {self.model}\"\n",
        "\n",
        "  def getseatCapacity(self):\n",
        "    return self.seat_capacity"
      ],
      "metadata": {
        "id": "GrCGoCh5fXKp"
      },
      "execution_count": null,
      "outputs": []
    },
    {
      "cell_type": "code",
      "source": [
        "myPlane = Vehicle(\"plane\",\"A320\", \"Airbus\", 180)\n",
        "myCar = Vehicle(\"car \", model = \"uno\", manufacturer=\"Fiat\", seat_capacity=5)"
      ],
      "metadata": {
        "id": "LIho7Z4uglpX"
      },
      "execution_count": null,
      "outputs": []
    },
    {
      "cell_type": "code",
      "source": [
        "print(myPlane.getModel())\n",
        "print(f\"Cabem {myPlane.getseatCapacity()} passageiros no {myPlane.getModel()}\")"
      ],
      "metadata": {
        "colab": {
          "base_uri": "https://localhost:8080/"
        },
        "id": "nOn6Ohdlh3Zo",
        "outputId": "debd2310-8994-4776-e795-feac55a46004"
      },
      "execution_count": null,
      "outputs": [
        {
          "output_type": "stream",
          "name": "stdout",
          "text": [
            "Airbus A320\n",
            "Cabem 180 passageiros no Airbus A320\n"
          ]
        }
      ]
    },
    {
      "cell_type": "code",
      "source": [
        "class Vehicle():\n",
        "    \n",
        "  def __init__(self, type, model, manufacturer, seat_capacity):\n",
        "    self.type = type\n",
        "    self.model = model\n",
        "    self.manufacturer = manufacturer\n",
        "    self.seat_capacity = seat_capacity\n",
        "        \n",
        "    self.n_passengers_onboard = 0\n",
        "        \n",
        "    # Getter methods\n",
        "    \n",
        "  def getModel(self):\n",
        "    return f\"{self.manufacturer} {self.model}\"\n",
        "        \n",
        "  def getSeatCapacity(self):\n",
        "    return self.seat_capacity\n",
        "    \n",
        "  def getNumPassengersOnboard(self):\n",
        "    return self.n_passengers_onboard\n",
        "    \n",
        "  def getNumSeatsAvailable(self):\n",
        "    return self.seat_capacity - self.n_passengers_onboard\n",
        "    \n",
        "    # Setter methods\n",
        "    \n",
        "  def removeAllPassengers(self):\n",
        "    self.n_passengers_onboard = 0\n",
        "        \n",
        "  def embarkPassengers(self, n_passengers_to_embark):\n",
        "        \n",
        "    available_seats = self.getNumSeatsAvailable()\n",
        "        \n",
        "    if available_seats >= n_passengers_to_embark:\n",
        "      self.n_passengers_onboard += n_passengers_to_embark\n",
        "      return f\"Mais {n_passengers_to_embark} passageiros embarcados com sucesso!\"\n",
        "        \n",
        "    else:\n",
        "      return f\"Impossível embarcar mais {n_passengers_to_embark} passageiros! Apenas {available_seats} assentos disponíveis.\"\n",
        "        \n",
        "  def removePassengers(self, n_passengers_to_remove):\n",
        "        \n",
        "    if n_passengers_to_remove <= self.n_passengers_onboard:\n",
        "      self.n_passengers_onboard -= n_passengers_to_remove\n",
        "      return f\"Desembarcaram {n_passengers_to_remove} passageiros\"\n",
        "        \n",
        "    elif self.n_passengers_onboard > 0:\n",
        "      n_passengers_remaining = self.n_passengers_onboard\n",
        "      self.removeAllPassengers()\n",
        "      return f\"Havia apenas {n_passengers_remaining} embarcados! Todos desembarcaram.\"\n",
        "        \n",
        "    else:\n",
        "      return \"Nenhum passageiro a bordo\"       \n",
        "      return self.seat_capacity - self.n_passengers_onboard"
      ],
      "metadata": {
        "id": "p9TKK3hZiKTh"
      },
      "execution_count": 35,
      "outputs": []
    },
    {
      "cell_type": "code",
      "source": [
        "myPlane = Vehicle(\"plane\",\"A320\", \"Airbus\", 180)\n",
        "myCar = Vehicle(\"car \", \"uno\", \"fiat\", 5)"
      ],
      "metadata": {
        "id": "CWj1zauinXQT"
      },
      "execution_count": 31,
      "outputs": []
    },
    {
      "cell_type": "code",
      "source": [
        "print(myPlane.embarkPassengers(50))\n",
        "print(f\"{myPlane.getNumPassengersOnboard()} passageiros a bordo\")\n",
        "print(f\"{myPlane.getNumSeatsAvailable()} assentos disponíveis\")"
      ],
      "metadata": {
        "colab": {
          "base_uri": "https://localhost:8080/"
        },
        "id": "DzE61gw_o8AG",
        "outputId": "255f1763-31f0-4f48-db62-658854f6a4bc"
      },
      "execution_count": 40,
      "outputs": [
        {
          "output_type": "stream",
          "name": "stdout",
          "text": [
            "Impossível embarcar mais 50 passageiros! Apenas 30 assentos disponíveis.\n",
            "150 passageiros a bordo\n",
            "30 assentos disponíveis\n"
          ]
        }
      ]
    },
    {
      "cell_type": "code",
      "source": [
        "\n",
        "print(f\"{myCar.getNumPassengersOnboard()} passageiros a bordo\")\n",
        "print(f\"{myCar.getNumSeatsAvailable()} assentos disponíveis\")"
      ],
      "metadata": {
        "colab": {
          "base_uri": "https://localhost:8080/"
        },
        "id": "Yue_qmjVpifs",
        "outputId": "4de9fed9-5a0d-456f-8ed0-77c00d4db0fa"
      },
      "execution_count": 43,
      "outputs": [
        {
          "output_type": "stream",
          "name": "stdout",
          "text": [
            "0 passageiros a bordo\n",
            "5 assentos disponíveis\n"
          ]
        }
      ]
    },
    {
      "cell_type": "code",
      "source": [
        "class Airplane(Vehicle):\n",
        "    def __init__(self, model, manufacturer, airline, seat_capacity):\n",
        "        super().__init__(type='plane',model=model,manufacturer=manufacturer,seat_capacity=seat_capacity)\n",
        "        self.airline = airline\n",
        "        \n",
        "    def takeoff(self):\n",
        "        print(f\"O {self.getModel()} da {self.airline} está decolando com {self.getNumPassengersOnboard()} passageiros\")\n",
        "        \n",
        "        \n",
        "        \n",
        "        \n",
        "        \n",
        "class Car(Vehicle):\n",
        "    def __init__(self, model, manufacturer, seat_capacity):\n",
        "        super().__init__(type='car',model=model,manufacturer=manufacturer,seat_capacity=seat_capacity)\n",
        "        \n",
        "    def embarkPassengers(self, n_passengers_to_embark, name_driver):\n",
        "\n",
        "            available_seats = self.getNumSeatsAvailable()\n",
        "            self.name_driver = name_driver\n",
        "\n",
        "            if available_seats >= n_passengers_to_embark:\n",
        "                self.n_passengers_onboard += n_passengers_to_embark\n",
        "                return f\"Mais {n_passengers_to_embark} passageiros embarcados com sucesso!\"\n",
        "\n",
        "            else:\n",
        "                return f\"Impossível embarcar mais {n_passengers_to_embark} passageiros! Apenas {available_seats} assentos disponíveis.\"\n",
        "\n",
        "        \n",
        "    def drive(self):\n",
        "        if self.getNumPassengersOnboard()>0:\n",
        "            print(f\"O {self.getModel()}, conduzido por {self.name_driver}, está na estrada com {self.getNumPassengersOnboard()} passageiros\")\n",
        "\n",
        "        else:\n",
        "            print(\"Um carro não pode operar sem motorista!\")"
      ],
      "metadata": {
        "id": "Cz4y2l-yqU4M"
      },
      "execution_count": 59,
      "outputs": []
    },
    {
      "cell_type": "code",
      "source": [
        "latamPlane = Airplane('A320','Airbus', \"Latam\", 180)\n",
        "\n",
        "print(latamPlane.embarkPassengers(130))\n",
        "latamPlane.takeoff()\n",
        "\n",
        "azulPlane = Airplane('ERJ190','Embraer', \"Azul\", 100)\n",
        "\n",
        "print(azulPlane.embarkPassengers(70))\n",
        "azulPlane.takeoff()"
      ],
      "metadata": {
        "colab": {
          "base_uri": "https://localhost:8080/"
        },
        "id": "4afq4gaaw-H0",
        "outputId": "d3d116da-9170-4f53-f131-ac391e2dd40d"
      },
      "execution_count": 60,
      "outputs": [
        {
          "output_type": "stream",
          "name": "stdout",
          "text": [
            "Mais 130 passageiros embarcados com sucesso!\n",
            "O Airbus A320 da Latam está decolando com 130 passageiros\n",
            "Mais 70 passageiros embarcados com sucesso!\n",
            "O Embraer ERJ190 da Azul está decolando com 70 passageiros\n"
          ]
        }
      ]
    },
    {
      "cell_type": "code",
      "source": [
        "myCar = Car('Uno','Fiat', 5)\n",
        "\n",
        "print(myCar.embarkPassengers(3, name_driver=\"Sérgio\"))\n",
        "myCar.drive()"
      ],
      "metadata": {
        "colab": {
          "base_uri": "https://localhost:8080/"
        },
        "id": "7nT9QVMvyFas",
        "outputId": "6f2f2dc0-c516-4a90-e94d-5be7e1dd22e5"
      },
      "execution_count": 61,
      "outputs": [
        {
          "output_type": "stream",
          "name": "stdout",
          "text": [
            "Mais 3 passageiros embarcados com sucesso!\n",
            "O Fiat Uno, conduzido por Sérgio, está na estrada com 3 passageiros\n"
          ]
        }
      ]
    }
  ]
}