{
  "nbformat": 4,
  "nbformat_minor": 0,
  "metadata": {
    "colab": {
      "provenance": [],
      "collapsed_sections": [],
      "authorship_tag": "ABX9TyOaibeCrUh+DDE/3sS1AZMR",
      "include_colab_link": true
    },
    "kernelspec": {
      "name": "python3",
      "display_name": "Python 3"
    },
    "language_info": {
      "name": "python"
    }
  },
  "cells": [
    {
      "cell_type": "markdown",
      "metadata": {
        "id": "view-in-github",
        "colab_type": "text"
      },
      "source": [
        "<a href=\"https://colab.research.google.com/github/Jefferson-Borges-Dev/Aplica-o-de-Python-WEB/blob/main/Aula_07_Jotta_B.ipynb\" target=\"_parent\"><img src=\"https://colab.research.google.com/assets/colab-badge.svg\" alt=\"Open In Colab\"/></a>"
      ]
    },
    {
      "cell_type": "code",
      "execution_count": null,
      "metadata": {
        "id": "k-5cIVKp5pvD"
      },
      "outputs": [],
      "source": [
        "#  Jotta B"
      ]
    },
    {
      "cell_type": "code",
      "source": [
        "nome = input(\" Digite o nome do Aluno: \")\n",
        "print(nome)"
      ],
      "metadata": {
        "colab": {
          "base_uri": "https://localhost:8080/"
        },
        "id": "uDp0-M0y5wRT",
        "outputId": "4fdd243b-6e22-4fff-a0b4-aa3d36339e5e"
      },
      "execution_count": null,
      "outputs": [
        {
          "output_type": "stream",
          "name": "stdout",
          "text": [
            " Digite o nome do Aluno: Jotta B\n",
            "Jotta B\n"
          ]
        }
      ]
    },
    {
      "cell_type": "code",
      "source": [
        " # Model - è implementado o banco de dados ou o modelo objeto -relacional\n",
        " # Template: é implementado o modo que a informação vai  ser  apresentada. \n",
        " # View: "
      ],
      "metadata": {
        "id": "afNRSP-i7dkS"
      },
      "execution_count": null,
      "outputs": []
    },
    {
      "cell_type": "code",
      "source": [
        "a = 1\n",
        "b = 2 \n",
        "c = 3 \n",
        "print(a)\n",
        "print(b,\"    \", b)\n",
        "print(c, \"    \",c,\"     \",c)"
      ],
      "metadata": {
        "id": "hgl8YJT8-LTL",
        "colab": {
          "base_uri": "https://localhost:8080/"
        },
        "outputId": "45386f9d-88c3-43b1-88d7-07b9f231aaa5"
      },
      "execution_count": null,
      "outputs": [
        {
          "output_type": "stream",
          "name": "stdout",
          "text": [
            "1\n",
            "2      2\n",
            "3      3       3\n"
          ]
        }
      ]
    },
    {
      "cell_type": "code",
      "source": [
        "# n = input(\"Digite um numero: \")\n",
        "\n",
        "def ex1(n):\n",
        "  for i in range(1, n+1):\n",
        "    print((str(i)+ \" \")*i)\n",
        "\n",
        "obj1 = ex1(int(input()))\n"
      ],
      "metadata": {
        "colab": {
          "base_uri": "https://localhost:8080/"
        },
        "id": "MsiWgwP-KwCr",
        "outputId": "4241984b-9fd5-4532-d190-87f92850053c"
      },
      "execution_count": null,
      "outputs": [
        {
          "output_type": "stream",
          "name": "stdout",
          "text": [
            "10\n",
            "1 \n",
            "2 2 \n",
            "3 3 3 \n",
            "4 4 4 4 \n",
            "5 5 5 5 5 \n",
            "6 6 6 6 6 6 \n",
            "7 7 7 7 7 7 7 \n",
            "8 8 8 8 8 8 8 8 \n",
            "9 9 9 9 9 9 9 9 9 \n",
            "10 10 10 10 10 10 10 10 10 10 \n"
          ]
        }
      ]
    },
    {
      "cell_type": "code",
      "source": [
        "#def ex1(i):\n",
        "lista = []\n",
        "for i in range(10):\n",
        "  i += 1\n",
        "  lista.append(i)\n",
        "  print(lista)\n",
        "\n",
        "\n"
      ],
      "metadata": {
        "colab": {
          "base_uri": "https://localhost:8080/"
        },
        "id": "GUl8lsuwMnW9",
        "outputId": "ba79c68b-212f-4e19-caac-01b324a35c7a"
      },
      "execution_count": null,
      "outputs": [
        {
          "output_type": "stream",
          "name": "stdout",
          "text": [
            "[1]\n",
            "[1, 2]\n",
            "[1, 2, 3]\n",
            "[1, 2, 3, 4]\n",
            "[1, 2, 3, 4, 5]\n",
            "[1, 2, 3, 4, 5, 6]\n",
            "[1, 2, 3, 4, 5, 6, 7]\n",
            "[1, 2, 3, 4, 5, 6, 7, 8]\n",
            "[1, 2, 3, 4, 5, 6, 7, 8, 9]\n",
            "[1, 2, 3, 4, 5, 6, 7, 8, 9, 10]\n"
          ]
        }
      ]
    },
    {
      "cell_type": "code",
      "source": [
        "def ex1(i):\n",
        "  lista = []\n",
        "  n = int(input())\n",
        "  for i in range(n):\n",
        "    i += 1\n",
        "    lista.append(i)\n",
        "    print(lista)\n",
        "\n",
        "obj1 = ex1(n)"
      ],
      "metadata": {
        "colab": {
          "base_uri": "https://localhost:8080/"
        },
        "id": "KC-XMUOaSGKS",
        "outputId": "e180a60f-8de4-4e87-f40c-3f6a8f52d0c2"
      },
      "execution_count": null,
      "outputs": [
        {
          "output_type": "stream",
          "name": "stdout",
          "text": [
            "20\n",
            "[1]\n",
            "[1, 2]\n",
            "[1, 2, 3]\n",
            "[1, 2, 3, 4]\n",
            "[1, 2, 3, 4, 5]\n",
            "[1, 2, 3, 4, 5, 6]\n",
            "[1, 2, 3, 4, 5, 6, 7]\n",
            "[1, 2, 3, 4, 5, 6, 7, 8]\n",
            "[1, 2, 3, 4, 5, 6, 7, 8, 9]\n",
            "[1, 2, 3, 4, 5, 6, 7, 8, 9, 10]\n",
            "[1, 2, 3, 4, 5, 6, 7, 8, 9, 10, 11]\n",
            "[1, 2, 3, 4, 5, 6, 7, 8, 9, 10, 11, 12]\n",
            "[1, 2, 3, 4, 5, 6, 7, 8, 9, 10, 11, 12, 13]\n",
            "[1, 2, 3, 4, 5, 6, 7, 8, 9, 10, 11, 12, 13, 14]\n",
            "[1, 2, 3, 4, 5, 6, 7, 8, 9, 10, 11, 12, 13, 14, 15]\n",
            "[1, 2, 3, 4, 5, 6, 7, 8, 9, 10, 11, 12, 13, 14, 15, 16]\n",
            "[1, 2, 3, 4, 5, 6, 7, 8, 9, 10, 11, 12, 13, 14, 15, 16, 17]\n",
            "[1, 2, 3, 4, 5, 6, 7, 8, 9, 10, 11, 12, 13, 14, 15, 16, 17, 18]\n",
            "[1, 2, 3, 4, 5, 6, 7, 8, 9, 10, 11, 12, 13, 14, 15, 16, 17, 18, 19]\n",
            "[1, 2, 3, 4, 5, 6, 7, 8, 9, 10, 11, 12, 13, 14, 15, 16, 17, 18, 19, 20]\n"
          ]
        }
      ]
    },
    {
      "cell_type": "code",
      "source": [
        "class Nota():\n",
        "  def __init__(nota1, nota2, nota3):\n",
        "    self.nota1 = nota1\n",
        "    self.nota2 = nota2\n",
        "    self.nota3 = nota3\n",
        "\n",
        "  def impr(nota1,nota2,nota3):\n",
        "    print(nota1+nota2+nota3)\n",
        "    "
      ],
      "metadata": {
        "id": "YlFs9etBT07S"
      },
      "execution_count": null,
      "outputs": []
    },
    {
      "cell_type": "code",
      "source": [
        "obj = impr(5,6,8)"
      ],
      "metadata": {
        "colab": {
          "base_uri": "https://localhost:8080/"
        },
        "id": "z1485L0KbFfz",
        "outputId": "237073b5-88d7-407c-91e9-faa6b0d94ef5"
      },
      "execution_count": null,
      "outputs": [
        {
          "output_type": "stream",
          "name": "stdout",
          "text": [
            "19\n"
          ]
        }
      ]
    },
    {
      "cell_type": "code",
      "source": [
        "class Nota():\n",
        "  def __init__(nota1):\n",
        "    self.nota1 = nota1\n",
        "  \n",
        "\n",
        "def res(nota1): \n",
        "  if nota1 > 0 :\n",
        "    print(\"P\")\n",
        "  else:\n",
        "    print(\"N\")\n",
        "\n"
      ],
      "metadata": {
        "id": "mc70uZMCYHzi"
      },
      "execution_count": null,
      "outputs": []
    },
    {
      "cell_type": "code",
      "source": [
        "obj = res(-1)"
      ],
      "metadata": {
        "colab": {
          "base_uri": "https://localhost:8080/"
        },
        "id": "J67Sqe-BabIL",
        "outputId": "ea6c4b0b-bb9d-48ac-a1a7-60f711e9f76d"
      },
      "execution_count": null,
      "outputs": [
        {
          "output_type": "stream",
          "name": "stdout",
          "text": [
            "N\n"
          ]
        }
      ]
    },
    {
      "cell_type": "code",
      "source": [
        "def somaImposto(taxaImposto, custo):\n",
        "  taxa = taxaImposto / 100\n",
        "  custo = custo\n",
        "  custoAlterado = (custo * taxa) + custo\n",
        "  return custoAlterado"
      ],
      "metadata": {
        "id": "OVgUjmf6b5J7"
      },
      "execution_count": null,
      "outputs": []
    },
    {
      "cell_type": "code",
      "source": [
        "obj = somaImposto(20,100)\n",
        "print(obj)"
      ],
      "metadata": {
        "colab": {
          "base_uri": "https://localhost:8080/"
        },
        "id": "lqX7jV6ecTiL",
        "outputId": "f8321bbd-eefe-47c9-ac3c-fc229fdba72b"
      },
      "execution_count": null,
      "outputs": [
        {
          "output_type": "stream",
          "name": "stdout",
          "text": [
            "120.0\n"
          ]
        }
      ]
    },
    {
      "cell_type": "code",
      "source": [
        "def reverse(x):\n",
        "  print(x[-1:-(len(x)+1):-1])"
      ],
      "metadata": {
        "id": "4C99_FRNdF7a"
      },
      "execution_count": null,
      "outputs": []
    },
    {
      "cell_type": "code",
      "source": [
        "obj1 = reverse(input(\"Digite um numero: \"))"
      ],
      "metadata": {
        "colab": {
          "base_uri": "https://localhost:8080/"
        },
        "id": "ab9olYxYehg8",
        "outputId": "500481f0-46bd-4528-d588-1c28bd295b0f"
      },
      "execution_count": null,
      "outputs": [
        {
          "output_type": "stream",
          "name": "stdout",
          "text": [
            "Digite um numero: 456\n",
            "654\n"
          ]
        }
      ]
    },
    {
      "cell_type": "code",
      "source": [
        "numero = input(\"Digite um numero: \")\n",
        "print(numero[-1::-1])"
      ],
      "metadata": {
        "colab": {
          "base_uri": "https://localhost:8080/"
        },
        "id": "Q0s5mAehf6BT",
        "outputId": "0374408c-f0e6-4b77-a339-0fc368a9b7bf"
      },
      "execution_count": null,
      "outputs": [
        {
          "output_type": "stream",
          "name": "stdout",
          "text": [
            "Digite um numero: 789\n",
            "987\n"
          ]
        }
      ]
    }
  ]
}