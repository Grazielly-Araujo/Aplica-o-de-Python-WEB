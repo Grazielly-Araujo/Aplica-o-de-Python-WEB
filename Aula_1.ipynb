{
  "nbformat": 4,
  "nbformat_minor": 0,
  "metadata": {
    "colab": {
      "provenance": [],
      "collapsed_sections": [],
      "authorship_tag": "ABX9TyNQhWtRTdxB6xbGmgaGWYiN",
      "include_colab_link": true
    },
    "kernelspec": {
      "name": "python3",
      "display_name": "Python 3"
    },
    "language_info": {
      "name": "python"
    }
  },
  "cells": [
    {
      "cell_type": "markdown",
      "metadata": {
        "id": "view-in-github",
        "colab_type": "text"
      },
      "source": [
        "<a href=\"https://colab.research.google.com/github/Jefferson-Borges-Dev/Aplica-o-de-Python-WEB/blob/main/Aula_1.ipynb\" target=\"_parent\"><img src=\"https://colab.research.google.com/assets/colab-badge.svg\" alt=\"Open In Colab\"/></a>"
      ]
    },
    {
      "cell_type": "markdown",
      "source": [],
      "metadata": {
        "id": "vVr_dPDINaSa"
      }
    },
    {
      "cell_type": "code",
      "execution_count": null,
      "metadata": {
        "colab": {
          "base_uri": "https://localhost:8080/"
        },
        "id": "UR1Hv69WB2__",
        "outputId": "ab9be236-7f1e-49cc-d56d-86db80039be7"
      },
      "outputs": [
        {
          "output_type": "stream",
          "name": "stdout",
          "text": [
            "Oi Jefferson\n"
          ]
        }
      ],
      "source": [
        "    print(\"Oi Jefferson\")"
      ]
    },
    {
      "cell_type": "code",
      "source": [
        "nome= \"Jefferson\"\n",
        "Idade = 29\n",
        "print(\"Ola\", nome)"
      ],
      "metadata": {
        "colab": {
          "base_uri": "https://localhost:8080/"
        },
        "id": "YUvGhFKPC_YV",
        "outputId": "4a1148d4-2a7d-4624-e41b-b532133d7371"
      },
      "execution_count": null,
      "outputs": [
        {
          "output_type": "stream",
          "name": "stdout",
          "text": [
            "Ola Jefferson\n"
          ]
        }
      ]
    },
    {
      "cell_type": "code",
      "source": [
        "pessoa = \"Jefferson\"\n",
        "idade = 29\n",
        "altura = 1,80\n",
        "desenvolvedora = True\n"
      ],
      "metadata": {
        "id": "XquPK3OCGNEW"
      },
      "execution_count": null,
      "outputs": []
    },
    {
      "cell_type": "code",
      "source": [
        "type(pessoa)\n",
        "type(idade)\n",
        "#type(altura)\n",
        "\"\"\"type(desenvolvedora)\"\"\""
      ],
      "metadata": {
        "colab": {
          "base_uri": "https://localhost:8080/",
          "height": 36
        },
        "id": "QbCG6HtNHUUv",
        "outputId": "dba58bb5-77f0-4ed8-c465-e3f3e75075b0"
      },
      "execution_count": null,
      "outputs": [
        {
          "output_type": "execute_result",
          "data": {
            "text/plain": [
              "'type(desenvolvedora)'"
            ],
            "application/vnd.google.colaboratory.intrinsic+json": {
              "type": "string"
            }
          },
          "metadata": {},
          "execution_count": 4
        }
      ]
    },
    {
      "cell_type": "code",
      "source": [
        "idade1 = 20\n",
        "idade2 = 9\n",
        "idade1 + idade2\n",
        "soma = idade1 + idade2\n",
        "subt = idade1 - idade2\n",
        "mult = idade1 * idade2\n",
        "divi = idade1 / idade2\n"
      ],
      "metadata": {
        "id": "3QifBzYqJooq"
      },
      "execution_count": null,
      "outputs": []
    },
    {
      "cell_type": "code",
      "source": [
        "soma = idade1 + 10\n",
        "subt = idade1 - 15\n",
        "mult = idade1 * 4\n",
        "divi = idade1 / 5"
      ],
      "metadata": {
        "id": "W57USfP3QG-X"
      },
      "execution_count": null,
      "outputs": []
    },
    {
      "cell_type": "code",
      "source": [
        "2 *(idade1 + idade2)"
      ],
      "metadata": {
        "colab": {
          "base_uri": "https://localhost:8080/"
        },
        "id": "OFIbfHsyQWJL",
        "outputId": "9e3d3633-43f3-47c4-d7ff-33d5a34b3fad"
      },
      "execution_count": null,
      "outputs": [
        {
          "output_type": "execute_result",
          "data": {
            "text/plain": [
              "58"
            ]
          },
          "metadata": {},
          "execution_count": 7
        }
      ]
    },
    {
      "cell_type": "code",
      "source": [
        "2* idade1 + 3 * idade2 / 4"
      ],
      "metadata": {
        "colab": {
          "base_uri": "https://localhost:8080/"
        },
        "id": "QIu8GgkRQcZe",
        "outputId": "2808ad90-1d68-4f56-e174-659a75bfc91a"
      },
      "execution_count": null,
      "outputs": [
        {
          "output_type": "execute_result",
          "data": {
            "text/plain": [
              "46.75"
            ]
          },
          "metadata": {},
          "execution_count": 8
        }
      ]
    },
    {
      "cell_type": "code",
      "source": [
        "(2 * idade1 +3 * idade2) / 4"
      ],
      "metadata": {
        "colab": {
          "base_uri": "https://localhost:8080/"
        },
        "id": "8fF2oPNdQjHh",
        "outputId": "88564647-8d46-481e-9e55-81e26098c50d"
      },
      "execution_count": null,
      "outputs": [
        {
          "output_type": "execute_result",
          "data": {
            "text/plain": [
              "16.75"
            ]
          },
          "metadata": {},
          "execution_count": 9
        }
      ]
    },
    {
      "cell_type": "code",
      "source": [
        "idade1 ** 2"
      ],
      "metadata": {
        "colab": {
          "base_uri": "https://localhost:8080/"
        },
        "id": "eV8M9ue-RDtW",
        "outputId": "ed570622-d46f-4a0e-af1f-9ed324e9cfc6"
      },
      "execution_count": null,
      "outputs": [
        {
          "output_type": "execute_result",
          "data": {
            "text/plain": [
              "400"
            ]
          },
          "metadata": {},
          "execution_count": 10
        }
      ]
    },
    {
      "cell_type": "code",
      "source": [
        "15**2"
      ],
      "metadata": {
        "colab": {
          "base_uri": "https://localhost:8080/"
        },
        "id": "2z6e_tS-RFaA",
        "outputId": "cb6638af-d478-4636-a738-a12decf69d29"
      },
      "execution_count": null,
      "outputs": [
        {
          "output_type": "execute_result",
          "data": {
            "text/plain": [
              "225"
            ]
          },
          "metadata": {},
          "execution_count": 11
        }
      ]
    },
    {
      "cell_type": "code",
      "source": [
        "idade1 // idade2"
      ],
      "metadata": {
        "colab": {
          "base_uri": "https://localhost:8080/"
        },
        "id": "7A9BNeZfRHra",
        "outputId": "5573fc9a-8d2f-40df-bfda-f3652fcb1b4c"
      },
      "execution_count": null,
      "outputs": [
        {
          "output_type": "execute_result",
          "data": {
            "text/plain": [
              "2"
            ]
          },
          "metadata": {},
          "execution_count": 12
        }
      ]
    },
    {
      "cell_type": "code",
      "source": [
        "idade1 / idade2"
      ],
      "metadata": {
        "colab": {
          "base_uri": "https://localhost:8080/"
        },
        "id": "lRqRZQtIRowm",
        "outputId": "56478e3e-5657-4754-b341-1eeccbac185a"
      },
      "execution_count": null,
      "outputs": [
        {
          "output_type": "execute_result",
          "data": {
            "text/plain": [
              "2.2222222222222223"
            ]
          },
          "metadata": {},
          "execution_count": 13
        }
      ]
    },
    {
      "cell_type": "code",
      "source": [
        "idade1 % idade2"
      ],
      "metadata": {
        "colab": {
          "base_uri": "https://localhost:8080/"
        },
        "id": "t__CWL3aRyO2",
        "outputId": "e27e97c3-3487-4492-b8e7-550ef4e83a52"
      },
      "execution_count": null,
      "outputs": [
        {
          "output_type": "execute_result",
          "data": {
            "text/plain": [
              "2"
            ]
          },
          "metadata": {},
          "execution_count": 14
        }
      ]
    },
    {
      "cell_type": "code",
      "source": [
        "nome = 'Jefferson'\n",
        "sobrenome = 'Borges'"
      ],
      "metadata": {
        "id": "yjaWd71rSfHz"
      },
      "execution_count": null,
      "outputs": []
    },
    {
      "cell_type": "code",
      "source": [
        "print(nome + ' ' + sobrenome)\n",
        "print(nome,sobrenome)\n",
        "print('Olá,', nome, 'você tem', idade1 + 15, 'anos.' )\n",
        "print('Olá,', nome, '\\n', 'você tem', idade1 + 15, 'anos.' )"
      ],
      "metadata": {
        "colab": {
          "base_uri": "https://localhost:8080/"
        },
        "id": "Aba7JY09SvKY",
        "outputId": "27c2f925-b02a-4cc8-a9eb-27a08e83c15a"
      },
      "execution_count": null,
      "outputs": [
        {
          "output_type": "stream",
          "name": "stdout",
          "text": [
            "Jefferson Borges\n",
            "Jefferson Borges\n",
            "Olá, Jefferson você tem 35 anos.\n",
            "Olá, Jefferson \n",
            " você tem 35 anos.\n"
          ]
        }
      ]
    },
    {
      "cell_type": "code",
      "source": [
        "\"\"\"input('Digite o seu Nom: ')\n",
        "nome = input('Digite o seu Nom: ')\n",
        "idade = input('Digite sua Idade: ')\"\"\""
      ],
      "metadata": {
        "colab": {
          "base_uri": "https://localhost:8080/",
          "height": 36
        },
        "id": "94towFjTS_oN",
        "outputId": "589d0c9d-3d66-410c-dc73-83807d09d64c"
      },
      "execution_count": null,
      "outputs": [
        {
          "output_type": "execute_result",
          "data": {
            "text/plain": [
              "\"input('Digite o seu Nom: ')\\nnome = input('Digite o seu Nom: ')\\nidade = input('Digite sua Idade: ')\""
            ],
            "application/vnd.google.colaboratory.intrinsic+json": {
              "type": "string"
            }
          },
          "metadata": {},
          "execution_count": 39
        }
      ]
    },
    {
      "cell_type": "code",
      "source": [
        "n = input('Por favor, entre com sua idade: ')\n",
        "print(type(n))"
      ],
      "metadata": {
        "colab": {
          "base_uri": "https://localhost:8080/"
        },
        "id": "H7fpnpl2Xfkh",
        "outputId": "860151bc-1667-4faa-cfc6-8aad0b848612"
      },
      "execution_count": null,
      "outputs": [
        {
          "output_type": "stream",
          "name": "stdout",
          "text": [
            "Por favor, entre com sua idade: 20\n",
            "<class 'str'>\n"
          ]
        }
      ]
    }
  ]
}