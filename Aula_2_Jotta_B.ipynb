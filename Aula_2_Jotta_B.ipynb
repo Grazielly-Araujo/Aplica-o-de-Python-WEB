{
  "nbformat": 4,
  "nbformat_minor": 0,
  "metadata": {
    "colab": {
      "provenance": [],
      "collapsed_sections": [],
      "authorship_tag": "ABX9TyP3WnKQs3wOfCWVNjSMcQjy",
      "include_colab_link": true
    },
    "kernelspec": {
      "name": "python3",
      "display_name": "Python 3"
    },
    "language_info": {
      "name": "python"
    }
  },
  "cells": [
    {
      "cell_type": "markdown",
      "metadata": {
        "id": "view-in-github",
        "colab_type": "text"
      },
      "source": [
        "<a href=\"https://colab.research.google.com/github/Jefferson-Borges-Dev/Aplica-o-de-Python-WEB/blob/main/Aula_2_Jotta_B.ipynb\" target=\"_parent\"><img src=\"https://colab.research.google.com/assets/colab-badge.svg\" alt=\"Open In Colab\"/></a>"
      ]
    },
    {
      "cell_type": "code",
      "execution_count": 1,
      "metadata": {
        "colab": {
          "base_uri": "https://localhost:8080/"
        },
        "id": "IDXdVsnfCP5b",
        "outputId": "55f67db1-ce22-4e76-b3c6-64c691e532d9"
      },
      "outputs": [
        {
          "name": "stdout",
          "output_type": "stream",
          "text": [
            "Digite um número inteiro: 10\n",
            "Digite outro número inteiro: 10\n"
          ]
        }
      ],
      "source": [
        ",valor1 = input('Digite um número inteiro: ')\n",
        "valor2 = input('Digite outro número inteiro: ')"
      ]
    },
    {
      "cell_type": "code",
      "source": [
        "print(valor1 == valor2)"
      ],
      "metadata": {
        "colab": {
          "base_uri": "https://localhost:8080/"
        },
        "id": "ZoEvxPL1GVOr",
        "outputId": "bdd04abf-950d-4a23-b2c4-d551a0d2b1bc"
      },
      "execution_count": 2,
      "outputs": [
        {
          "output_type": "stream",
          "name": "stdout",
          "text": [
            "True\n"
          ]
        }
      ]
    },
    {
      "cell_type": "code",
      "source": [
        "print(valor1 > valor2)"
      ],
      "metadata": {
        "colab": {
          "base_uri": "https://localhost:8080/"
        },
        "id": "R21IiWALGbLb",
        "outputId": "53e0fb2c-5b8f-46d3-d360-96f024e51327"
      },
      "execution_count": 3,
      "outputs": [
        {
          "output_type": "stream",
          "name": "stdout",
          "text": [
            "False\n"
          ]
        }
      ]
    },
    {
      "cell_type": "code",
      "source": [
        "print(valor1 < valor2)"
      ],
      "metadata": {
        "colab": {
          "base_uri": "https://localhost:8080/"
        },
        "id": "sFgWQWdaGzS7",
        "outputId": "82a0e4e7-b308-4d65-d207-af6d9b44d49a"
      },
      "execution_count": 4,
      "outputs": [
        {
          "output_type": "stream",
          "name": "stdout",
          "text": [
            "False\n"
          ]
        }
      ]
    },
    {
      "cell_type": "code",
      "source": [
        "print(valor1 >= valor2)\n"
      ],
      "metadata": {
        "colab": {
          "base_uri": "https://localhost:8080/"
        },
        "id": "DVmn5vL3G4xj",
        "outputId": "de8a14e2-67df-489d-c7e5-41104f4bb5a3"
      },
      "execution_count": 5,
      "outputs": [
        {
          "output_type": "stream",
          "name": "stdout",
          "text": [
            "True\n"
          ]
        }
      ]
    },
    {
      "cell_type": "code",
      "source": [
        "print(valor1 <= valor2)"
      ],
      "metadata": {
        "colab": {
          "base_uri": "https://localhost:8080/"
        },
        "id": "ZtKdkf7yG_5z",
        "outputId": "abdd9b11-afbd-4f16-ddd5-ea386dd68663"
      },
      "execution_count": 6,
      "outputs": [
        {
          "output_type": "stream",
          "name": "stdout",
          "text": [
            "True\n"
          ]
        }
      ]
    },
    {
      "cell_type": "code",
      "source": [
        "numero = 10\n",
        "print(numero>0 and numero<10)"
      ],
      "metadata": {
        "colab": {
          "base_uri": "https://localhost:8080/"
        },
        "id": "MW6JaqxQJ_iU",
        "outputId": "5cff9cec-28af-4405-cd28-2104bfee1831"
      },
      "execution_count": 7,
      "outputs": [
        {
          "output_type": "stream",
          "name": "stdout",
          "text": [
            "False\n"
          ]
        }
      ]
    },
    {
      "cell_type": "code",
      "source": [
        "numero = 10\n",
        "print(numero > 0 or numero < 10)"
      ],
      "metadata": {
        "colab": {
          "base_uri": "https://localhost:8080/"
        },
        "id": "5K7NDUujKM20",
        "outputId": "d0719948-e596-43f3-8214-bc5facf63239"
      },
      "execution_count": 8,
      "outputs": [
        {
          "output_type": "stream",
          "name": "stdout",
          "text": [
            "True\n"
          ]
        }
      ]
    },
    {
      "cell_type": "code",
      "source": [
        "numero = int (input('Digite um número inteiro: '))\n",
        "if numero % 2 == 0:\n",
        "  print(numero, 'Seu numero é par') \n",
        "else:\n",
        "    print(numero,'seu numero é impar')"
      ],
      "metadata": {
        "colab": {
          "base_uri": "https://localhost:8080/"
        },
        "id": "9OSOR83cKy4c",
        "outputId": "52513841-be25-4a70-d2c7-d37f2031b1c7"
      },
      "execution_count": 9,
      "outputs": [
        {
          "output_type": "stream",
          "name": "stdout",
          "text": [
            "Digite um número inteiro: 10\n",
            "10 Seu numero é par\n"
          ]
        }
      ]
    },
    {
      "cell_type": "code",
      "source": [
        "cupom = input('Digite o cupom: ')\n",
        "if (cupom == 'aula1' or cupom == 'aula2') :\n",
        "  print('|Você ganhou 10% de desconto')\n",
        "else:\n",
        "    print('Cupom inválido!')"
      ],
      "metadata": {
        "colab": {
          "base_uri": "https://localhost:8080/"
        },
        "id": "zIp3lnq3MYtb",
        "outputId": "c0b364e1-7f49-40d8-9276-756fd3897fb6"
      },
      "execution_count": 10,
      "outputs": [
        {
          "output_type": "stream",
          "name": "stdout",
          "text": [
            "Digite o cupom: aula1\n",
            "|Você ganhou 10% de desconto\n"
          ]
        }
      ]
    },
    {
      "cell_type": "code",
      "source": [
        "cupom1 = 'aula1'\n",
        "cupom2 = 'aula2'\n",
        "cupom = input('Digite o cupom: ')\n",
        "if (cupom == cupom1 or cupom2) :\n",
        "  print('|Você ganhou 10% de desconto')\n",
        "else:\n",
        "    print('Cupom inválido!')"
      ],
      "metadata": {
        "colab": {
          "base_uri": "https://localhost:8080/"
        },
        "id": "rJVgvxGuRg_r",
        "outputId": "75253cb2-8db9-436f-fef1-b910250ffe0c"
      },
      "execution_count": 11,
      "outputs": [
        {
          "output_type": "stream",
          "name": "stdout",
          "text": [
            "Digite o cupom: cupom1\n",
            "|Você ganhou 10% de desconto\n"
          ]
        }
      ]
    },
    {
      "cell_type": "code",
      "source": [
        "cupom = input('Insira o seu Cupom: ')\n",
        "if (cupom == 'aula1' or cupom == 'aula2') :\n",
        "  print('Você ganhou 15% de desconto! ')\n",
        "else:\n",
        "    print('Você ganhou 5% de desconto!')"
      ],
      "metadata": {
        "colab": {
          "base_uri": "https://localhost:8080/"
        },
        "id": "EbMzGJQRTiGV",
        "outputId": "a1c3dbb9-82e7-457b-ee6d-5192720ea250"
      },
      "execution_count": 12,
      "outputs": [
        {
          "output_type": "stream",
          "name": "stdout",
          "text": [
            "Insira o seu Cupom: aula1\n",
            "Você ganhou 15% de desconto! \n"
          ]
        }
      ]
    },
    {
      "cell_type": "code",
      "source": [
        "cupom = input('Insira o seu Cupom: ')\n",
        "if (cupom == 'aula1') :\n",
        "  print('Você ganhou 15% de desconto! ')\n",
        "elif (cupom == 'aula2') :\n",
        "  print('Você ganhou 10% de desconto! ')\n",
        "else:\n",
        "    print('Você ganhou 5% de desconto!')"
      ],
      "metadata": {
        "colab": {
          "base_uri": "https://localhost:8080/"
        },
        "id": "RzmoN3YSUHLP",
        "outputId": "bd08e905-abaf-4b25-c90d-a20429af30d7"
      },
      "execution_count": 13,
      "outputs": [
        {
          "output_type": "stream",
          "name": "stdout",
          "text": [
            "Insira o seu Cupom: aula1\n",
            "Você ganhou 15% de desconto! \n"
          ]
        }
      ]
    },
    {
      "cell_type": "code",
      "source": [
        "clima = input('Me diga como esta o clima (Sol ou chuvendo): ')\n",
        "if (clima == 'Sol') : \n",
        "  dinheiro = input('Você esta com dinheiro?: ')\n",
        "  if (dinheiro == 'Sim') :\n",
        "    print(' Você pode ir a praia!')\n",
        "  else:\n",
        "    print(' É melhor assistirmos Netflix! ')    "
      ],
      "metadata": {
        "colab": {
          "base_uri": "https://localhost:8080/"
        },
        "id": "dqYYk2D9XK4G",
        "outputId": "3f94a338-15e2-4b06-d97c-2daae87238f4"
      },
      "execution_count": 14,
      "outputs": [
        {
          "name": "stdout",
          "output_type": "stream",
          "text": [
            "Me diga como esta o clima (Sol ou chuvendo): sol\n"
          ]
        }
      ]
    },
    {
      "cell_type": "code",
      "source": [
        "clima = input('Me diga como esta o clima (Sol ou chuvendo): ')\n",
        "dinheiro = input('Você esta com dinheiro?: ')\n",
        "\n",
        "if (clima == 'sol' and dinheiro == 'sim') : \n",
        "  print('Obaaa Vamos a praia! ')\n",
        "else:\n",
        "  print(' É melhor assistirmos Netflix! ')    "
      ],
      "metadata": {
        "colab": {
          "base_uri": "https://localhost:8080/"
        },
        "id": "2RjEfL19bwZn",
        "outputId": "afe9181a-b09e-4160-d7e4-50ba70daed7e"
      },
      "execution_count": 15,
      "outputs": [
        {
          "output_type": "stream",
          "name": "stdout",
          "text": [
            "Me diga como esta o clima (Sol ou chuvendo): sol\n",
            "Você esta com dinheiro?: sim\n",
            "Obaaa Vamos a praia! \n"
          ]
        }
      ]
    },
    {
      "cell_type": "code",
      "source": [
        "clima = input('Me diga como esta o clima (Sol ou chuvendo): ')\n",
        "dinheiro = input('Você esta com dinheiro?: ')\n",
        "\n",
        "if (clima == 'sol' or dinheiro == 'sim') : \n",
        "  print('Obaaa Vamos a praia! ')\n",
        "else:\n",
        "  print(' É melhor assistirmos Netflix! ')   "
      ],
      "metadata": {
        "colab": {
          "base_uri": "https://localhost:8080/"
        },
        "id": "nYGNZNSueLbu",
        "outputId": "28d69dec-29d2-4e6f-b018-11162fdd1826"
      },
      "execution_count": 16,
      "outputs": [
        {
          "output_type": "stream",
          "name": "stdout",
          "text": [
            "Me diga como esta o clima (Sol ou chuvendo): sol\n",
            "Você esta com dinheiro?: sim\n",
            "Obaaa Vamos a praia! \n"
          ]
        }
      ]
    },
    {
      "cell_type": "code",
      "source": [
        "carro = input('Qual o modelo do seu carro?: ')\n",
        "valor = int (input('Qual o valor do seu carro?: '))\n",
        "ano = int (input('Qual o ano do seu carro?: '))\n",
        "if (ano <= 1990) :\n",
        "  print('o valor da sua taxa é:R$ ', valor*0.01)\n",
        "if (ano > 1990) :\n",
        "  print(' O valor da sua taxa é:R$ ', valor*0.015)\n",
        "\n"
      ],
      "metadata": {
        "colab": {
          "base_uri": "https://localhost:8080/"
        },
        "id": "OrYCHywtgNPm",
        "outputId": "83e6ba9f-b9d4-4c07-e098-9f44fc2997fa"
      },
      "execution_count": 17,
      "outputs": [
        {
          "output_type": "stream",
          "name": "stdout",
          "text": [
            "Qual o modelo do seu carro?: uno\n",
            "Qual o valor do seu carro?: 20000\n",
            "Qual o ano do seu carro?: 1990\n",
            "o valor da sua taxa é:R$  200.0\n"
          ]
        }
      ]
    },
    {
      "cell_type": "code",
      "source": [
        "cargo = input(\"Qual seu cargo atual? \")\n",
        "salario = float(input(\"Qual o seu salário atual? \"))\n",
        "\n",
        "if (cargo == \"gerente\"):\n",
        "  aumento = salario * 0.1\n",
        "elif (cargo == \"engenheiro\"):\n",
        "  aumento = salario * 0.2\n",
        "elif (cargo == \"técnico\"):\n",
        "  aumento = salario * 0.3\n",
        "else: \n",
        "  aumento = salario * 0.4\n",
        "\n",
        "\n",
        "novoSalario = (salario + aumento)\n",
        "\n",
        "print(\"Seu salario antigo era de R$:\",salario, \"\\n\" \"Seu salário novo é de R$:\",novoSalario , \"\\n\" \"Seu aumento foi de R$\",aumento)\n",
        "\n"
      ],
      "metadata": {
        "id": "NT25nqFSnLy3",
        "colab": {
          "base_uri": "https://localhost:8080/",
          "height": 380
        },
        "outputId": "dea5a0ee-3d1d-477e-d45e-be53b8e61ff7"
      },
      "execution_count": 50,
      "outputs": [
        {
          "output_type": "error",
          "ename": "KeyboardInterrupt",
          "evalue": "ignored",
          "traceback": [
            "\u001b[0;31m---------------------------------------------------------------------------\u001b[0m",
            "\u001b[0;31mKeyboardInterrupt\u001b[0m                         Traceback (most recent call last)",
            "\u001b[0;32m<ipython-input-50-e00b2ed099de>\u001b[0m in \u001b[0;36m<module>\u001b[0;34m\u001b[0m\n\u001b[0;32m----> 1\u001b[0;31m \u001b[0mcargo\u001b[0m \u001b[0;34m=\u001b[0m \u001b[0minput\u001b[0m\u001b[0;34m(\u001b[0m\u001b[0;34m\"Qual seu cargo atual? \"\u001b[0m\u001b[0;34m)\u001b[0m\u001b[0;34m\u001b[0m\u001b[0;34m\u001b[0m\u001b[0m\n\u001b[0m\u001b[1;32m      2\u001b[0m \u001b[0msalario\u001b[0m \u001b[0;34m=\u001b[0m \u001b[0mfloat\u001b[0m\u001b[0;34m(\u001b[0m\u001b[0minput\u001b[0m\u001b[0;34m(\u001b[0m\u001b[0;34m\"Qual o seu salário atual? \"\u001b[0m\u001b[0;34m)\u001b[0m\u001b[0;34m)\u001b[0m\u001b[0;34m\u001b[0m\u001b[0;34m\u001b[0m\u001b[0m\n\u001b[1;32m      3\u001b[0m \u001b[0;34m\u001b[0m\u001b[0m\n\u001b[1;32m      4\u001b[0m \u001b[0;32mif\u001b[0m \u001b[0;34m(\u001b[0m\u001b[0mcargo\u001b[0m \u001b[0;34m==\u001b[0m \u001b[0;34m\"gerente\"\u001b[0m\u001b[0;34m)\u001b[0m\u001b[0;34m:\u001b[0m\u001b[0;34m\u001b[0m\u001b[0;34m\u001b[0m\u001b[0m\n\u001b[1;32m      5\u001b[0m   \u001b[0maumento\u001b[0m \u001b[0;34m=\u001b[0m \u001b[0msalario\u001b[0m \u001b[0;34m*\u001b[0m \u001b[0;36m0.1\u001b[0m\u001b[0;34m\u001b[0m\u001b[0;34m\u001b[0m\u001b[0m\n",
            "\u001b[0;32m/usr/local/lib/python3.7/dist-packages/ipykernel/kernelbase.py\u001b[0m in \u001b[0;36mraw_input\u001b[0;34m(self, prompt)\u001b[0m\n\u001b[1;32m    861\u001b[0m             \u001b[0mself\u001b[0m\u001b[0;34m.\u001b[0m\u001b[0m_parent_ident\u001b[0m\u001b[0;34m,\u001b[0m\u001b[0;34m\u001b[0m\u001b[0;34m\u001b[0m\u001b[0m\n\u001b[1;32m    862\u001b[0m             \u001b[0mself\u001b[0m\u001b[0;34m.\u001b[0m\u001b[0m_parent_header\u001b[0m\u001b[0;34m,\u001b[0m\u001b[0;34m\u001b[0m\u001b[0;34m\u001b[0m\u001b[0m\n\u001b[0;32m--> 863\u001b[0;31m             \u001b[0mpassword\u001b[0m\u001b[0;34m=\u001b[0m\u001b[0;32mFalse\u001b[0m\u001b[0;34m,\u001b[0m\u001b[0;34m\u001b[0m\u001b[0;34m\u001b[0m\u001b[0m\n\u001b[0m\u001b[1;32m    864\u001b[0m         )\n\u001b[1;32m    865\u001b[0m \u001b[0;34m\u001b[0m\u001b[0m\n",
            "\u001b[0;32m/usr/local/lib/python3.7/dist-packages/ipykernel/kernelbase.py\u001b[0m in \u001b[0;36m_input_request\u001b[0;34m(self, prompt, ident, parent, password)\u001b[0m\n\u001b[1;32m    902\u001b[0m             \u001b[0;32mexcept\u001b[0m \u001b[0mKeyboardInterrupt\u001b[0m\u001b[0;34m:\u001b[0m\u001b[0;34m\u001b[0m\u001b[0;34m\u001b[0m\u001b[0m\n\u001b[1;32m    903\u001b[0m                 \u001b[0;31m# re-raise KeyboardInterrupt, to truncate traceback\u001b[0m\u001b[0;34m\u001b[0m\u001b[0;34m\u001b[0m\u001b[0;34m\u001b[0m\u001b[0m\n\u001b[0;32m--> 904\u001b[0;31m                 \u001b[0;32mraise\u001b[0m \u001b[0mKeyboardInterrupt\u001b[0m\u001b[0;34m(\u001b[0m\u001b[0;34m\"Interrupted by user\"\u001b[0m\u001b[0;34m)\u001b[0m \u001b[0;32mfrom\u001b[0m \u001b[0;32mNone\u001b[0m\u001b[0;34m\u001b[0m\u001b[0;34m\u001b[0m\u001b[0m\n\u001b[0m\u001b[1;32m    905\u001b[0m             \u001b[0;32mexcept\u001b[0m \u001b[0mException\u001b[0m \u001b[0;32mas\u001b[0m \u001b[0me\u001b[0m\u001b[0;34m:\u001b[0m\u001b[0;34m\u001b[0m\u001b[0;34m\u001b[0m\u001b[0m\n\u001b[1;32m    906\u001b[0m                 \u001b[0mself\u001b[0m\u001b[0;34m.\u001b[0m\u001b[0mlog\u001b[0m\u001b[0;34m.\u001b[0m\u001b[0mwarning\u001b[0m\u001b[0;34m(\u001b[0m\u001b[0;34m\"Invalid Message:\"\u001b[0m\u001b[0;34m,\u001b[0m \u001b[0mexc_info\u001b[0m\u001b[0;34m=\u001b[0m\u001b[0;32mTrue\u001b[0m\u001b[0;34m)\u001b[0m\u001b[0;34m\u001b[0m\u001b[0;34m\u001b[0m\u001b[0m\n",
            "\u001b[0;31mKeyboardInterrupt\u001b[0m: Interrupted by user"
          ]
        }
      ]
    },
    {
      "cell_type": "code",
      "source": [
        "\n",
        "jan = float(input(\"infomre o salrio de janeiro:R$ \"))\n",
        "fev = float(input(\"infomre o salrio de fevereiro:R$ \"))\n",
        "mar = float(input(\"infomre o salrio de março:R$ \"))\n",
        "abr = float(input(\"infomre o salrio de abril:R$ \"))\n",
        "mai = float(input(\"infomre o salrio de maio:R$ \"))\n",
        "jun = float(input(\"infomre o salrio de junho:R$ \"))\n",
        "jul = float(input(\"infomre o salrio de julho:R$ \"))\n",
        "ago = float(input(\"infomre o salrio de agosto:R$ \"))\n",
        "sete = float(input(\"infomre o salrio de setembro:R$ \"))\n",
        "out = float(input(\"infomre o salrio de outubro:R$ \"))\n",
        "nov = float(input(\"infomre o salrio de novembro:R$ \"))\n",
        "dez = float(input(\"infomre o salrio de dezembro:R$ \"))\n",
        "\n",
        "mediaAnual = float(jan+ fev+ mar+ abr+ mai+ jun+ jul+ ago+ sete+ out+ nov+ dez)/12\n",
        "\n",
        "if (mediaAnual >= 0 and mediaAnual<=200):\n",
        "  print(\"Você não recebeu nenhum crédito especial! \")\n",
        "if (mediaAnual >= 201 and mediaAnual <= 400 ):\n",
        "  credito= (mediaAnual*0.2)\n",
        "if (mediaAnual >= 401 and mediaAnual <= 600):\n",
        "  credito= (mediaAnual*0.3)  \n",
        "if (mediaAnual >= 601):\n",
        "  credito= (mediaAnual*0.4)\n",
        "print(\"Você recebeu um crédito especial de: R$ \", credito)\n",
        "\n",
        "print(mediaAnual)"
      ],
      "metadata": {
        "colab": {
          "base_uri": "https://localhost:8080/"
        },
        "id": "tEL0LMACnU0k",
        "outputId": "84968ab0-1b7d-427b-eef3-ed38cd8d5181"
      },
      "execution_count": 90,
      "outputs": [
        {
          "output_type": "stream",
          "name": "stdout",
          "text": [
            "infomre o salrio de janeiro:R$ 100\n",
            "infomre o salrio de fevereiro:R$ 500\n",
            "infomre o salrio de março:R$ 500\n",
            "infomre o salrio de abril:R$ 40\n",
            "infomre o salrio de maio:R$ 400\n",
            "infomre o salrio de junho:R$ 400\n",
            "infomre o salrio de julho:R$ 300\n",
            "infomre o salrio de agosto:R$ 300\n",
            "infomre o salrio de setembro:R$ 300\n",
            "infomre o salrio de outubro:R$ 400\n",
            "infomre o salrio de novembro:R$ 200\n",
            "infomre o salrio de dezembro:R$ 200\n",
            "Você recebeu um crédito especial de: R$  60.666666666666664\n",
            "303.3333333333333\n"
          ]
        }
      ]
    },
    {
      "cell_type": "code",
      "source": [
        "num1 = int(input(\"Digite um numero inteiro: \"))\n",
        "num2 = int(input(\"Digite um numero inteiro: \"))\n",
        "num3 = int(input(\"Digite um numero inteiro: \"))\n",
        "num4 = int(input(\"Digite um numero inteiro: \"))\n",
        "num5 = int(input(\"Digite um numero inteiro: \"))\n",
        "\n",
        "if (num1 > num2 and num1 > num3 and num1 > num4 and num1 > num5):\n",
        "  print(num1, \"Esse é o maior numero!\")\n",
        "if (num2 > num1 and num2 > num3 and num2 > num4 and num2 > num5):\n",
        "  print(num2, \"Esse é o maior numero!\")\n",
        "if (num3 > num1 and num3 > num2 and num3 > num4 and num3 > num5):\n",
        "  print(num3, \"Esse é o maior numero!\")\n",
        "if (num4 > num1 and num4 > num2 and num4 > num3 and num4 > num5):\n",
        "  print(num4, \"Esse é o maior numero!\")\n",
        "if (num5 > num1 and num5 > num2 and num5 > num3 and num5 > num4):\n",
        "  print(num5, \"Esse é o maior numero!\")\n",
        "\n",
        "if (num1 < num2 and num1 < num3 and num1 < num4 and num1 < num5):\n",
        "  print(num1, \"Esse é o menor numero!\")\n",
        "if (num2 < num1 and num2 < num3 and num2 < num4 and num2 < num5):\n",
        "  print(num2, \"Esse é o menor numero!\")\n",
        "if (num3 < num1 and num3 < num2 and num3 < num4 and num3 < num5):\n",
        "  print(num3, \"Esse é o menor numero!\")\n",
        "if (num4 < num1 and num4 < num2 and num4 < num3 and num4 < num5):\n",
        "  print(num4, \"Esse é o menor numero!\")\n",
        "if (num5 < num1 and num5 < num2 and num5 < num3 and num5 < num4):\n",
        "  print(num5, \"Esse é o menor numero!\")  \n"
      ],
      "metadata": {
        "colab": {
          "base_uri": "https://localhost:8080/"
        },
        "id": "QAHt1S2f50Qi",
        "outputId": "1e62bb4d-0049-4184-92df-5ec639463e77"
      },
      "execution_count": 12,
      "outputs": [
        {
          "output_type": "stream",
          "name": "stdout",
          "text": [
            "Digite um numero inteiro: 4\n",
            "Digite um numero inteiro: 4\n",
            "Digite um numero inteiro: 7\n",
            "Digite um numero inteiro: 2\n",
            "Digite um numero inteiro: 1\n",
            "7 Esse é o maior numero!\n",
            "1 Esse é o menor numero!\n"
          ]
        }
      ]
    },
    {
      "cell_type": "code",
      "source": [
        "valor1 = int(input(\"Digite o primeiro valor: \"))\n",
        "valor2 = int(input(\"Digite o segundo valor: \"))\n",
        "valor3 = int(input(\"Digite o terceiro valor: \"))\n",
        "valor4 = int(input(\"Digite o quarto valor: \"))\n",
        "valor5 = int(input(\"Digite o quinto  valor: \")) \n",
        "\n",
        "lista = [valor1, valor2, valor3, valor4, valor5]\n",
        "\n",
        "print (\"\\n\"\"Os valores digitados foram: \",lista) \n",
        "\n",
        "print (\"\\n\"\"O Maior valor digitado foi!: \", max(lista))\n",
        "print (\"O menor valor digitado foi: \", min(lista))"
      ],
      "metadata": {
        "colab": {
          "base_uri": "https://localhost:8080/"
        },
        "id": "Aj2PFl_xt1sU",
        "outputId": "2a8f6d18-fc9d-4ebc-bdb7-b03b2e8f7514"
      },
      "execution_count": 20,
      "outputs": [
        {
          "output_type": "stream",
          "name": "stdout",
          "text": [
            "Digite o primeiro valor: 2\n",
            "Digite o segundo valor: 5\n",
            "Digite o terceiro valor: 80\n",
            "Digite o quarto valor: 4\n",
            "Digite o quinto  valor: 2\n",
            "\n",
            "Os valores digitados foram:  [2, 5, 80, 4, 2]\n",
            "\n",
            "O máximo valor digitado é:  80\n",
            "O menor valor digitado foi:  2\n"
          ]
        }
      ]
    }
  ]
}