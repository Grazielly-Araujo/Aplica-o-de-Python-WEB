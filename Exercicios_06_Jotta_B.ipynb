{
  "nbformat": 4,
  "nbformat_minor": 0,
  "metadata": {
    "colab": {
      "provenance": [],
      "authorship_tag": "ABX9TyOlEzZc0JpSyF3zAmeTZGtv",
      "include_colab_link": true
    },
    "kernelspec": {
      "name": "python3",
      "display_name": "Python 3"
    },
    "language_info": {
      "name": "python"
    }
  },
  "cells": [
    {
      "cell_type": "markdown",
      "metadata": {
        "id": "view-in-github",
        "colab_type": "text"
      },
      "source": [
        "<a href=\"https://colab.research.google.com/github/Jefferson-Borges-Dev/Aplica-o-de-Python-WEB/blob/main/Exercicios_06_Jotta_B.ipynb\" target=\"_parent\"><img src=\"https://colab.research.google.com/assets/colab-badge.svg\" alt=\"Open In Colab\"/></a>"
      ]
    },
    {
      "cell_type": "code",
      "execution_count": 1,
      "metadata": {
        "colab": {
          "base_uri": "https://localhost:8080/"
        },
        "id": "R4v3h5VUTUcQ",
        "outputId": "d4591bb0-b2c6-4341-a3a1-205160784302"
      },
      "outputs": [
        {
          "output_type": "stream",
          "name": "stdout",
          "text": [
            "Número  0\n",
            "Número  1\n",
            "Número  2\n",
            "Número  3\n",
            "Número  4\n",
            "O primeiro número é:  45\n",
            "O segundo número é:  6\n",
            "A soma número é:  51\n"
          ]
        }
      ],
      "source": [
        "# Funções e metodos!\n",
        "\n",
        "\n",
        "def funcaoLeitura():\n",
        "  for i in range(5):\n",
        "    print(\"Número \", i)\n",
        "funcaoLeitura()\n",
        "\n",
        "\n",
        "#Função para somar dois numeros\n",
        "def addNum(n1, n2):\n",
        "  print(\"O primeiro número é: \", n1)\n",
        "  print(\"O segundo número é: \", n2)\n",
        "  print(\"A soma número é: \", n1+n2)\n",
        "addNum(45, 6)\n"
      ]
    },
    {
      "cell_type": "code",
      "source": [
        "# Variáveis globais e locais\n",
        "\n",
        "varGlobal = 10 #essa é uma variável global\n",
        "def multiplicacao(num1, num2):\n",
        "  varGlobal = (num1 * num2) #essa é uma variável local\n",
        "  print(\"Variável da função Multiplica: \", varGlobal)\n",
        "multiplicacao(5, 4)\n",
        "print(varGlobal)\n",
        "\n",
        "\n",
        "varGlobal = 10 #essa é uma variável global\n",
        "def multiplica(num1, num2):\n",
        "  varLocal = num1 * num2 #essa é uma variável local\n",
        "  print(varLocal)\n",
        "  print(\"Variável da função Multiplica: \", varLocal)\n",
        "multiplica(5, 4)\n",
        "\n",
        "\n",
        "\n",
        "for i in range(5): print(i)\n",
        "\n",
        "def separarTexto(texto): \n",
        "  return texto.split()\n",
        "\n",
        "token = separarTexto(\"Cibele Maria\")\n",
        "print(token)"
      ],
      "metadata": {
        "colab": {
          "base_uri": "https://localhost:8080/"
        },
        "id": "EO_SWVF9UGry",
        "outputId": "8285f611-b943-496c-e41a-2f8ff19820f7"
      },
      "execution_count": 2,
      "outputs": [
        {
          "output_type": "stream",
          "name": "stdout",
          "text": [
            "Variável da função Multiplica:  20\n",
            "10\n",
            "20\n",
            "Variável da função Multiplica:  20\n",
            "0\n",
            "1\n",
            "2\n",
            "3\n",
            "4\n",
            "['Cibele', 'Maria']\n"
          ]
        }
      ]
    },
    {
      "cell_type": "code",
      "source": [
        "def variosParametros(*parametros):\n",
        "  for n, item in enumerate(parametros):\n",
        "    print(\"O parâmetro %d é: \" %(n), item)\n",
        "  return;\n",
        "\n",
        "variosParametros(\"pitomba\", \"jambo\", \"siriguela\", \"umbu\")\n",
        "import math\n",
        "\n",
        "def numPrimo(num):\n",
        "#verificando se um número é primo\n",
        "  if (num%2) == 0 and num>2:\n",
        "    return (\"Este número não é primo\")\n",
        "  for i in range(3, int(math.sqrt(num)) + 1, 2):\n",
        "    if (num % i) == 0:\n",
        "      return (\"Este numero não é primo\")\n",
        "      return (\"Este número é primo!\")\n",
        "\n",
        "numPrimo(47)"
      ],
      "metadata": {
        "colab": {
          "base_uri": "https://localhost:8080/"
        },
        "id": "_9qwY-lgXmwX",
        "outputId": "848beca6-9bad-465e-e959-768e1512b240"
      },
      "execution_count": 3,
      "outputs": [
        {
          "output_type": "stream",
          "name": "stdout",
          "text": [
            "O parâmetro 0 é:  pitomba\n",
            "O parâmetro 1 é:  jambo\n",
            "O parâmetro 2 é:  siriguela\n",
            "O parâmetro 3 é:  umbu\n"
          ]
        }
      ]
    },
    {
      "cell_type": "code",
      "source": [
        "# Calculadora\n",
        "\n",
        "def soma(n1, n2):\n",
        "  return n1+n2\n",
        "def subtrai(n1, n2):\n",
        "  return n1-n2\n",
        "def multiplica(n1, n2):\n",
        "  return n1*n2\n",
        "def divide(n1,n2):\n",
        "  return n1/n2\n",
        "\n",
        "while True:\n",
        "  print(\"+==================+\")\n",
        "  print(\"| MENU DE OPERAÇÕES\")\n",
        "  print(\"| 1 - somar \")\n",
        "  print(\"| 2 - subtrair \")\n",
        "  print(\"| 3 - multiplicar \")\n",
        "  print(\"| 4 - dividir \")\n",
        "  print(\"| 0 - sair \")\n",
        "  print(\"+==================+\")\n",
        "  op = int(input(\"digite um numero \"))\n",
        "  if op==0:\n",
        "    break\n",
        "\n",
        "n1 = int(input(\"Primeiro número: \"))\n",
        "n2 = int(input(\"Segundo número: \"))\n",
        "if op==1:\n",
        "  print(\"O resultado da soma é: \", soma(n1, n2))\n",
        "elif op==2:\n",
        "  print(\"O resultado da subtração é: \", subtrai(n1,n2))\n",
        "elif op==3:\n",
        "  print(\"O resultado da multiplicação é: \", multiplica(n1,n2))\n",
        "elif op==4:\n",
        "  print(\"O resultado da divisão é: \", divide(n1,n2))\n",
        "\n",
        "class Pessoa():\n",
        "  def __init__(self, n, i):\n",
        "    self.nome = n\n",
        "    self.idade = i\n",
        "  def apresentacao(self):\n",
        "    print(\"Seja bem vindo ao Python!\")\n",
        "class PessoaFisica():\n",
        "  def __init__(self, n, i, cpf):\n",
        "    self.nome = n\n",
        "    self.idade = i\n",
        "    self.cpf = cpf\n",
        "  def apresentacao(self):\n",
        "    print(\"Seja bem vindo ao Python!\")\n",
        "\n",
        "  def impostoDeRenda(self, *salario):\n",
        "    s = sum(salario)\n",
        "    ir = s*0.015\n",
        "    print(\" O valor do seu imposto de renda é R$\", ir)\n",
        "    return ir\n",
        "class PessoaJuridica():\n",
        "  def __init__(self, n, i, cnpj):\n",
        "    self.nome = n\n",
        "    self.idade = i\n",
        "    self.cnpj = cnpj\n",
        "  def apresentacao(self):\n",
        "    print(\"Seja bem vindo ao Python!\")\n",
        "  def impostoDeRenda(self, salario):\n",
        "    ir = salario*0.10\n",
        "    print(\" O valor do seu imposto de renda é R$\", ir)\n",
        "    return ir\n",
        "\n",
        "nome = str(input(\"Nome: \"))\n",
        "age = int(input(\"Idade: \"))\n",
        "cnpj = int(input(\"CNPJ: \"))\n",
        "serumaninho = Pessoa(nome, age)\n",
        "comunidade = PessoaJuridica(nome, age, cnpj)\n",
        "serumaninho.nome\n",
        "\n",
        "serumaninho.idade\n",
        "\n",
        "serumaninho.apresentacao()\n",
        "\n",
        "salario = float(input(\"Receita: \"))\n",
        "comunidade.impostoDeRenda(salario)\n",
        "print(\"Fim!\")"
      ],
      "metadata": {
        "colab": {
          "base_uri": "https://localhost:8080/"
        },
        "id": "zrWFaPhua5YM",
        "outputId": "cec3719b-2942-461b-ef39-d35394fd579a"
      },
      "execution_count": 4,
      "outputs": [
        {
          "output_type": "stream",
          "name": "stdout",
          "text": [
            "+==================+\n",
            "| MENU DE OPERAÇÕES\n",
            "| 1 - somar \n",
            "| 2 - subtrair \n",
            "| 3 - multiplicar \n",
            "| 4 - dividir \n",
            "| 0 - sair \n",
            "+==================+\n",
            "digite um numero 0\n",
            "Primeiro número: 1\n",
            "Segundo número: 1\n",
            "Nome: 31\n",
            "Idade: 13\n",
            "CNPJ: 13131\n",
            "Seja bem vindo ao Python!\n",
            "Receita: 1\n",
            " O valor do seu imposto de renda é R$ 0.1\n",
            "Fim!\n"
          ]
        }
      ]
    },
    {
      "cell_type": "code",
      "source": [
        "#  Orientação a Objetos: classes"
      ],
      "metadata": {
        "id": "gdwsdhbQbrUi"
      },
      "execution_count": 5,
      "outputs": []
    },
    {
      "cell_type": "code",
      "source": [
        "class Filme():\n",
        "  pass\n",
        "snowden = Filme()\n",
        "print(snowden)\n",
        "  \n",
        "class Filme():\n",
        "  def __init__(self, nome, ano, duracao):\n",
        "    self.nome = nome\n",
        "    self.ano = ano\n",
        "    self.duracao = duracao\n",
        "\n",
        "  def imprimir(self):\n",
        "    snowden = Filme()\n",
        "    print(snowden.nome)\n",
        "snowden = Filme('Snowden: herói ou vilão', 2018, 160)\n",
        "print(snowden.nome)\n",
        "    "
      ],
      "metadata": {
        "colab": {
          "base_uri": "https://localhost:8080/"
        },
        "id": "9fMroD_OdUKn",
        "outputId": "4f676087-a73a-4dc2-904f-99950a41d641"
      },
      "execution_count": 2,
      "outputs": [
        {
          "output_type": "stream",
          "name": "stdout",
          "text": [
            "<__main__.Filme object at 0x7fdff075f590>\n",
            "Snowden: herói ou vilão\n"
          ]
        }
      ]
    },
    {
      "cell_type": "code",
      "source": [
        "class Filme:\n",
        "  def __init__(self, nome, ano, duracao):\n",
        "    self.nome = nome\n",
        "    self.ano = ano\n",
        "    self.duracao = duracao\n",
        "\n",
        "class Serie:\n",
        "  def __init__(self, nome, ano, temporadas):\n",
        "    self.nome = nome\n",
        "    self.ano = ano\n",
        "    self.temporadas = temporadas\n",
        "\n",
        "snowden = Filme('Snowden: herói ou vilão', 2018, 160)\n",
        "print(snowden.nome)\n",
        "blackMirror = Serie('Black Mirror', 2018, 2)\n",
        "print(f\"Nome: {blackMirror.nome} - Ano: {blackMirror.ano} - Temporadas: {blackMirror.temporadas}\")\n"
      ],
      "metadata": {
        "colab": {
          "base_uri": "https://localhost:8080/"
        },
        "id": "b_FreCivfr1G",
        "outputId": "8c77d481-8f2e-43f2-cbac-3564860cbcbc"
      },
      "execution_count": 3,
      "outputs": [
        {
          "output_type": "stream",
          "name": "stdout",
          "text": [
            "Snowden: herói ou vilão\n",
            "Nome: Black Mirror - Ano: 2018 - Temporadas: 2\n"
          ]
        }
      ]
    },
    {
      "cell_type": "code",
      "source": [
        "class Filme:\n",
        "  def __init__(self, nome, ano, duracao):\n",
        "    self.nome = nome\n",
        "    self.ano = ano\n",
        "    self.duracao = duracao\n",
        "\n",
        "class Serie:\n",
        "  def __init__(self, nome, ano, temporadas):\n",
        "    self.nome = nome\n",
        "    self.ano = ano\n",
        "    self.temporadas = temporadas\n",
        "\n",
        "snowden = Filme('Snowden: herói ou vilão', 2018, 160)\n",
        "print(f'Nome: {snowden.nome} - Ano: {snowden.ano} - Temporadas: {snowden.duracao}')\n",
        "blackMirror = Serie('Black Mirror', 2018, 2)\n",
        "print(f'Nome: {blackMirror.nome} - Ano: {blackMirror.ano} - Temporadas: {blackMirror.temporadas}')"
      ],
      "metadata": {
        "colab": {
          "base_uri": "https://localhost:8080/"
        },
        "id": "v_sdzvfUidpm",
        "outputId": "ebea4333-25ba-49f2-d8ac-f744074d033c"
      },
      "execution_count": 4,
      "outputs": [
        {
          "output_type": "stream",
          "name": "stdout",
          "text": [
            "Nome: Snowden: herói ou vilão - Ano: 2018 - Temporadas: 160\n",
            "Nome: Black Mirror - Ano: 2018 - Temporadas: 2\n"
          ]
        }
      ]
    },
    {
      "cell_type": "code",
      "source": [
        "class Filme():\n",
        "  def __init__(self, nome, ano, duracao):\n",
        "    self.nome = nome.capitalize()\n",
        "    self.ano = ano\n",
        "    self.duracao = duracao\n",
        "\n",
        "class Filme():\n",
        "  def __init__(self, nome, ano, duracao):\n",
        "    self.nome = nome.title()\n",
        "    self.ano = ano\n",
        "    self.duracao = duracao\n",
        "\n",
        "class Serie():\n",
        "  def __init__(self, nome, ano, temporadas):\n",
        "    self.nome = nome.title()\n",
        "    self.ano = ano\n",
        "    self.temporadas = temporadas\n",
        "\n",
        "class Filme():\n",
        "  def __init__(self, nome, ano, duracao):\n",
        "    self.nome = nome.title()\n",
        "    self.ano = ano\n",
        "    self.duracao = duracao\n",
        "  def dar_like(self):\n",
        "    self.likes += 1\n",
        "\n",
        "class Filme():\n",
        "  def __init__(self, nome, ano, duracao):\n",
        "    self.nome = nome.title()\n",
        "    self.ano = ano\n",
        "    self.duracao = duracao\n",
        "    self.likes = 0\n",
        "  def dar_like(self):\n",
        "    self.likes += 1\n",
        "\n",
        "class Serie():\n",
        "  def __init__(self, nome, ano, temporadas):\n",
        "    self.nome = nome.title()\n",
        "    self.ano = ano\n",
        "    self.temporadas = temporadas\n",
        "    self.likes = 0\n",
        "  def dar_like(self):\n",
        "    self.likes += 1  \n",
        "    \n",
        "\n",
        "snowden = Filme('Snowden: herói ou vilão', 2018, 160)\n",
        "print(f'Nome: {snowden.nome} - Ano: {snowden.ano} - Temporadas: {snowden.duracao} - Likes: {snowden.likes}')\n",
        "blackMirror = Serie('Black Mirror', 2018, 2)\n",
        "print(f'Nome: {blackMirror.nome} - Ano: {blackMirror.ano} - Temporadas: {blackMirror.temporadas} - Likes: {blackMirror.likes}')\n",
        "\n",
        "blackMirror = Serie('blackMirror', 2018, 2)\n",
        "blackMirror.nome = 'blackMirror'\n",
        "blackMirror.dar_like()\n",
        "blackMirror.dar_like()\n",
        "print(f'Nome: {blackMirror.nome} - Ano: {blackMirror.ano} '\n",
        " f'- Temporadas: {blackMirror.temporadas} - Likes: {blackMirror.likes}')\n",
        "\n",
        "\n",
        "class Filme():\n",
        "  def __init__(self, nome, ano, duracao):\n",
        "    self.nome = nome.title()\n",
        "    self.ano = ano\n",
        "    self.duracao = duracao\n",
        "    self.likes = 0\n",
        "  def dar_like(self):\n",
        "    self.likes += 1\n",
        "\n",
        "class Filme():\n",
        "  def __init__(self, nome, ano, duracao):\n",
        "    self.__nome = nome.title()\n",
        "    self.ano = ano\n",
        "    self.duracao = duracao\n",
        "    self.__likes = 0\n",
        "  def dar_like(self):\n",
        "    self.likes += 1\n",
        "\n",
        "class Serie():\n",
        "  def __init__(self, nome, ano, temporadas):\n",
        "    self.nome = nome.title()\n",
        "    self.ano = ano\n",
        "    self.temporadas = temporadas\n",
        "    self.likes = 0\n",
        "  def dar_like(self):\n",
        "    self.likes += 1  \n",
        "\n",
        " \n",
        "\n",
        "blackMirror = Serie('blackMirror', 2018, 2)\n",
        "blackMirror.nome = 'blackMirror'\n",
        "blackMirror.dar_like()\n",
        "blackMirror.dar_like()\n",
        "print(f'Nome: {blackMirror.nome} - Ano: {blackMirror.ano} '\n",
        "f'- Temporadas: {blackMirror.temporadas} - Likes: {blackMirror.likes}')"
      ],
      "metadata": {
        "colab": {
          "base_uri": "https://localhost:8080/"
        },
        "id": "nH1nj_28i5q6",
        "outputId": "e89bccf6-7c2e-475b-f821-57a7c601ed73"
      },
      "execution_count": 17,
      "outputs": [
        {
          "output_type": "stream",
          "name": "stdout",
          "text": [
            "Nome: Snowden: Herói Ou Vilão - Ano: 2018 - Temporadas: 160 - Likes: 0\n",
            "Nome: Black Mirror - Ano: 2018 - Temporadas: 2 - Likes: 0\n",
            "Nome: blackMirror - Ano: 2018 - Temporadas: 2 - Likes: 2\n",
            "Nome: blackMirror - Ano: 2018 - Temporadas: 2 - Likes: 2\n"
          ]
        }
      ]
    },
    {
      "cell_type": "code",
      "source": [
        "class Filme():\n",
        "  def __init__(self, nome, ano, duracao):\n",
        "    self.__nome = nome.title()\n",
        "    self.ano = ano\n",
        "    self.duracao = duracao\n",
        "    self.__likes = 0\n",
        "  @property\n",
        "  def likes(self):\n",
        "    return self.__likes\n",
        "  def dar_like(self):\n",
        "    self.__likes += 1\n",
        "\n",
        "  def dar_likes(self):\n",
        "    self.__likes += 1\n",
        "  @property\n",
        "  def nome(self):\n",
        "    return self.__nome\n",
        "\n",
        "  @property\n",
        "  def nome(self):\n",
        "    return self.__nome\n",
        "\n",
        "  @nome.setter\n",
        "  def nomeN(self, novo_nome):\n",
        "    self.__nome = novo_nome.title()\n",
        "  \n",
        "  "
      ],
      "metadata": {
        "id": "dKDO_NPjPtPp"
      },
      "execution_count": 3,
      "outputs": []
    },
    {
      "cell_type": "code",
      "source": [
        "class Pessoa():\n",
        "  tamanho_cpf = 11\n",
        "  def __init__(self, cpf, nome):\n",
        "    self.cpf = cpf\n",
        "    self.nome = nome\n",
        "  def valida_cpf(self):\n",
        "    return True if len(self.cpf) == __class__.tamanho_cpf else False\n",
        "\n",
        "pe = Pessoa('00000000001', 'Camila')\n",
        "print(pe.valida_cpf())\n",
        "pe = Pessoa('0000000000', 'Suely')\n",
        "print(pe.valida_cpf())"
      ],
      "metadata": {
        "colab": {
          "base_uri": "https://localhost:8080/"
        },
        "id": "IRz7QXsSGPYH",
        "outputId": "30c1ff6f-5f6b-4bd2-bd5d-07b25cc30154"
      },
      "execution_count": 4,
      "outputs": [
        {
          "output_type": "stream",
          "name": "stdout",
          "text": [
            "True\n",
            "False\n"
          ]
        }
      ]
    },
    {
      "cell_type": "code",
      "source": [
        "class Pessoa():\n",
        "  tamanho_cpf = 11\n",
        "p = Pessoa()\n",
        "print(p.tamanho_cpf)\n",
        "\n",
        "p.tamanho_cpf = 12\n",
        "print(p.tamanho_cpf)\n",
        "print(Pessoa.tamanho_cpf)"
      ],
      "metadata": {
        "colab": {
          "base_uri": "https://localhost:8080/"
        },
        "id": "3nBCpGcPGbcH",
        "outputId": "98e87367-e542-437b-e257-77f3374b866c"
      },
      "execution_count": 7,
      "outputs": [
        {
          "output_type": "stream",
          "name": "stdout",
          "text": [
            "11\n",
            "12\n",
            "11\n"
          ]
        }
      ]
    },
    {
      "cell_type": "code",
      "source": [
        "class Filme():\n",
        "  def __init__(self, nome, ano, duracao):\n",
        "    self.__nome = nome.title()\n",
        "    self.ano = ano\n",
        "    self.duracao = duracao\n",
        "    self.__likes = 0\n",
        "  @property\n",
        "  def likes(self):\n",
        "    return self.__likes\n",
        "  def dar_likes(self):\n",
        "    self.__likes += 1\n",
        "  @property\n",
        "  def nome(self):\n",
        "    return self.__nome\n",
        "  @nome.setter\n",
        "  def nome(self, novo_nome):\n",
        "    self.__nome = novo_nome.title()\n",
        "\n",
        "class Serie():\n",
        "  def __init__(self, nome, ano, temporadas):\n",
        "    self.__nome = nome.title()\n",
        "    self.ano = ano\n",
        "    self.temporadas = temporadas\n",
        "    self.__likes = 0\n",
        "  @property\n",
        "  def likes(self):\n",
        "    return self.__likes\n",
        "\n",
        "  def dar_likes(self):\n",
        "    self.__likes += 1\n",
        "  @property\n",
        "  def nome(self):\n",
        "    return self.__nome\n",
        "  @nome.setter\n",
        "  def nome(self, novo_nome):\n",
        "    self.__nome = novo_nome.title()\n",
        "\n",
        "vingadores = Filme('vingadores - guerra infinita', 2018, 160)\n",
        "print(vingadores.nome)\n",
        "atlanta = Serie('atlanta', 2018, 2)\n",
        "print(f'Nome: {atlanta.nome} - Ano: {atlanta.ano}')"
      ],
      "metadata": {
        "colab": {
          "base_uri": "https://localhost:8080/"
        },
        "id": "mdnksHPaGq6G",
        "outputId": "bf63057d-cf29-448d-cefa-59738377bc6a"
      },
      "execution_count": 8,
      "outputs": [
        {
          "output_type": "stream",
          "name": "stdout",
          "text": [
            "Vingadores - Guerra Infinita\n",
            "Nome: Atlanta - Ano: 2018\n"
          ]
        }
      ]
    },
    {
      "cell_type": "code",
      "source": [
        "class Programa():\n",
        "  def __init__(self, nome, ano):\n",
        "    self.__nome = nome.title()\n",
        "    self.ano = ano\n",
        "    self.__like = 0\n",
        "  @property\n",
        "  def likes(self):\n",
        "    return self.__likes\n",
        "  def dar_likes(self):\n",
        "    self.__likes += 1\n",
        "  @property\n",
        "  def nome(self):\n",
        "    return self.__nome\n",
        "  @nome.setter\n",
        "  def nome(self, novo_nome):\n",
        "    self.__nome = novo_nome.title()"
      ],
      "metadata": {
        "id": "NVIO7AxnH0cs"
      },
      "execution_count": 9,
      "outputs": []
    }
  ]
}