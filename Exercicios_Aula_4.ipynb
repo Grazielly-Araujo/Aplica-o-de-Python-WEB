{
  "nbformat": 4,
  "nbformat_minor": 0,
  "metadata": {
    "colab": {
      "provenance": [],
      "collapsed_sections": [],
      "authorship_tag": "ABX9TyPbrFYr+RIqQu4Qh3FGtJJT",
      "include_colab_link": true
    },
    "kernelspec": {
      "name": "python3",
      "display_name": "Python 3"
    },
    "language_info": {
      "name": "python"
    }
  },
  "cells": [
    {
      "cell_type": "markdown",
      "metadata": {
        "id": "view-in-github",
        "colab_type": "text"
      },
      "source": [
        "<a href=\"https://colab.research.google.com/github/Jefferson-Borges-Dev/Aplica-o-de-Python-WEB/blob/main/Exercicios_Aula_4.ipynb\" target=\"_parent\"><img src=\"https://colab.research.google.com/assets/colab-badge.svg\" alt=\"Open In Colab\"/></a>"
      ]
    },
    {
      "cell_type": "code",
      "execution_count": null,
      "metadata": {
        "id": "rB8B56Z4HPQe"
      },
      "outputs": [],
      "source": []
    },
    {
      "cell_type": "code",
      "source": [
        "n1 = int(input(\"infrome um numero inteiro: \"))\n",
        "n2 = int(input(\"infrome mais um numero inteiro: \"))\n",
        "n3 = int(input(\"infrome mais um numero inteiro:\"))\n",
        "n4 = int(input(\"infrome mais um numero inteiro: \"))\n",
        "n5 = int(input(\"infrome mais um numero inteiro: \"))\n",
        "n6 = int(input(\"infrome mais um numero inteiro: \"))\n",
        "n7 = int(input(\"infrome mais um numero inteiro:\"))\n",
        "n8 = int(input(\"infrome mais um numero inteiro: \"))\n",
        "n9 = int(input(\"infrome mais um numero inteiro: \"))\n",
        "n10 = int(input(\"infrome o ultimo numero inteiro: \"))\n",
        "z = 0\n",
        "i = 0\n",
        "x=[]\n",
        "lista = [n1,n2,n3,n4,n5,n6,n7,n8,n9,n10]\n",
        "\n",
        "\n",
        "for n in lista:\n",
        "  if n%2 == 0: \n",
        "    z= z+1\n",
        "    x+= [n]\n",
        "  \n",
        "    \n",
        "  else:\n",
        "    i= i+1\n",
        "    \n",
        "print(\"esses numeros são pares:\",x)\n",
        "print(\"Esse foi o total de numeros IMPAR:\",i)\n",
        "print(\"Esse foi o total de numeros PAR: \",z)\n"
      ],
      "metadata": {
        "colab": {
          "base_uri": "https://localhost:8080/"
        },
        "id": "U5hnzEObWvL1",
        "outputId": "284902e9-535e-402c-e585-2289f957bbcd"
      },
      "execution_count": null,
      "outputs": [
        {
          "output_type": "stream",
          "name": "stdout",
          "text": [
            "infrome um numero inteiro: 10\n",
            "infrome mais um numero inteiro: 8\n",
            "infrome mais um numero inteiro:6\n",
            "infrome mais um numero inteiro: 4\n",
            "infrome mais um numero inteiro: 2\n",
            "infrome mais um numero inteiro: 9\n",
            "infrome mais um numero inteiro:7\n",
            "infrome mais um numero inteiro: 5\n",
            "infrome mais um numero inteiro: 3\n",
            "infrome o ultimo numero inteiro: 1\n",
            "esses numeros são pares: [10, 8, 6, 4, 2]\n",
            "Esse foi o total de numeros IMPAR: 5\n",
            "Esse foi o total de numeros PAR:  5\n"
          ]
        }
      ]
    },
    {
      "cell_type": "code",
      "source": [
        "diaSemana = str(input(\"Diga qual o dia da semana: \"))\n",
        "\n",
        "if (diaSemana == \"sabado\" or diaSemana == \"domingo\"):\n",
        "  print(\"Hoje é dia de Descanso!\")\n",
        "else:\n",
        "  print(\"Você precisa ir trabalhar!\")"
      ],
      "metadata": {
        "id": "hJZRXITye6xq",
        "colab": {
          "base_uri": "https://localhost:8080/"
        },
        "outputId": "f33b6b7a-1f73-4491-cd67-2ec8a767c0be"
      },
      "execution_count": null,
      "outputs": [
        {
          "output_type": "stream",
          "name": "stdout",
          "text": [
            "Diga qual o dia da semana: sabado\n",
            "Hoje é dia de Descanso!\n"
          ]
        }
      ]
    },
    {
      "cell_type": "code",
      "source": [
        "for name in [\"Reginaldo\", \"Gisele Pintcher\", \"scoob\", \"Marlene\", \"Zezinho\", \"cibele\",\"Suely\"] :\n",
        "\n",
        "  convite = (\"oi, \" + name + \"! Por favor, venha para o sábado pet em minha casa!\")\n",
        "  print(convite)"
      ],
      "metadata": {
        "colab": {
          "base_uri": "https://localhost:8080/"
        },
        "id": "yeCUxrSCXTIF",
        "outputId": "83f3bbad-49dc-40d9-eb36-d9bb72868229"
      },
      "execution_count": null,
      "outputs": [
        {
          "output_type": "stream",
          "name": "stdout",
          "text": [
            "oi, Reginaldo! Por favor, venha para o sábado pet em minha casa!\n",
            "oi, Gisele Pintcher! Por favor, venha para o sábado pet em minha casa!\n",
            "oi, scoob! Por favor, venha para o sábado pet em minha casa!\n",
            "oi, Marlene! Por favor, venha para o sábado pet em minha casa!\n",
            "oi, Zezinho! Por favor, venha para o sábado pet em minha casa!\n",
            "oi, cibele! Por favor, venha para o sábado pet em minha casa!\n",
            "oi, Suely! Por favor, venha para o sábado pet em minha casa!\n"
          ]
        }
      ]
    },
    {
      "cell_type": "code",
      "source": [
        "x=[]\n",
        "for n in range(11):\n",
        "  if n%2 == 0: \n",
        "    x += [n]\n",
        "    print(i)\n",
        "  else: \n",
        "    print(n * n)\n",
        "    \n",
        "\n"
      ],
      "metadata": {
        "id": "ZflZj7Toeore",
        "colab": {
          "base_uri": "https://localhost:8080/"
        },
        "outputId": "82711121-cd19-4c48-d11f-6a49619a67eb"
      },
      "execution_count": null,
      "outputs": [
        {
          "output_type": "stream",
          "name": "stdout",
          "text": [
            "[0, 2, 4, 6, 8, 10]\n",
            "1\n",
            "[0, 2, 4, 6, 8, 10]\n",
            "9\n",
            "[0, 2, 4, 6, 8, 10]\n",
            "25\n",
            "[0, 2, 4, 6, 8, 10]\n",
            "49\n",
            "[0, 2, 4, 6, 8, 10]\n",
            "81\n",
            "[0, 2, 4, 6, 8, 10]\n"
          ]
        }
      ]
    },
    {
      "cell_type": "code",
      "source": [
        "palavra = input(\"Digite qulaquer palavra: \")\n",
        "for indice, letra in enumerate(palavra) :\n",
        "  if (letra == \"a\" or letra == \"e\" or letra == \"i\" or letra == \"o\" or letra == \"u\") : \n",
        "    print(indice, letra)"
      ],
      "metadata": {
        "id": "QKlpKgybtfKG",
        "colab": {
          "base_uri": "https://localhost:8080/"
        },
        "outputId": "88bb5232-99eb-4874-e68e-1093d1f7de46"
      },
      "execution_count": null,
      "outputs": [
        {
          "output_type": "stream",
          "name": "stdout",
          "text": [
            "Digite qulaquer palavra: azeitona\n",
            "0 a\n",
            "2 e\n",
            "3 i\n",
            "5 o\n",
            "7 a\n"
          ]
        }
      ]
    },
    {
      "cell_type": "code",
      "source": [
        "lista = [\"morango\",\"manga\", \"pitomba\", \"laranja\", \"goiaba\" ]\n",
        "print(\"morango\" in lista)"
      ],
      "metadata": {
        "id": "3_sy7gwntmp8",
        "colab": {
          "base_uri": "https://localhost:8080/"
        },
        "outputId": "ae317939-4ca6-40f4-c0b8-2fd587a58ff1"
      },
      "execution_count": null,
      "outputs": [
        {
          "output_type": "stream",
          "name": "stdout",
          "text": [
            "True\n"
          ]
        }
      ]
    },
    {
      "cell_type": "code",
      "source": [
        "for n in range(100,151):\n",
        "  if n % 2 ==0 :\n",
        "    print(n)"
      ],
      "metadata": {
        "id": "45ULh0NntmyR",
        "colab": {
          "base_uri": "https://localhost:8080/"
        },
        "outputId": "bdaed12a-4bee-4ad5-cacf-3c42ae800e76"
      },
      "execution_count": null,
      "outputs": [
        {
          "output_type": "stream",
          "name": "stdout",
          "text": [
            "100\n",
            "102\n",
            "104\n",
            "106\n",
            "108\n",
            "110\n",
            "112\n",
            "114\n",
            "116\n",
            "118\n",
            "120\n",
            "122\n",
            "124\n",
            "126\n",
            "128\n",
            "130\n",
            "132\n",
            "134\n",
            "136\n",
            "138\n",
            "140\n",
            "142\n",
            "144\n",
            "146\n",
            "148\n",
            "150\n"
          ]
        }
      ]
    },
    {
      "cell_type": "code",
      "source": [
        "temperatura = 40\n",
        "while temperatura > 25 :\n",
        "  temperatura -= 1\n",
        "  print(\" A temperatura esta caindo!\", temperatura)"
      ],
      "metadata": {
        "id": "lIoUbs3Vtm9j",
        "colab": {
          "base_uri": "https://localhost:8080/"
        },
        "outputId": "10fc9fa8-f96b-423b-dd1f-487221669ff5"
      },
      "execution_count": null,
      "outputs": [
        {
          "output_type": "stream",
          "name": "stdout",
          "text": [
            " A temperatura esta caindo! 39\n",
            " A temperatura esta caindo! 38\n",
            " A temperatura esta caindo! 37\n",
            " A temperatura esta caindo! 36\n",
            " A temperatura esta caindo! 35\n",
            " A temperatura esta caindo! 34\n",
            " A temperatura esta caindo! 33\n",
            " A temperatura esta caindo! 32\n",
            " A temperatura esta caindo! 31\n",
            " A temperatura esta caindo! 30\n",
            " A temperatura esta caindo! 29\n",
            " A temperatura esta caindo! 28\n",
            " A temperatura esta caindo! 27\n",
            " A temperatura esta caindo! 26\n",
            " A temperatura esta caindo! 25\n"
          ]
        }
      ]
    },
    {
      "cell_type": "code",
      "source": [
        "contador = 0\n",
        "for n in range(101):\n",
        "  if n != 100 :\n",
        "    contador +=1\n",
        "    print(contador)"
      ],
      "metadata": {
        "id": "5N9equFbtnYb",
        "colab": {
          "base_uri": "https://localhost:8080/"
        },
        "outputId": "5599beb6-5144-47f6-be35-3f37c7448722"
      },
      "execution_count": null,
      "outputs": [
        {
          "output_type": "stream",
          "name": "stdout",
          "text": [
            "1\n",
            "2\n",
            "3\n",
            "4\n",
            "5\n",
            "6\n",
            "7\n",
            "8\n",
            "9\n",
            "10\n",
            "11\n",
            "12\n",
            "13\n",
            "14\n",
            "15\n",
            "16\n",
            "17\n",
            "18\n",
            "19\n",
            "20\n",
            "21\n",
            "22\n",
            "23\n",
            "24\n",
            "25\n",
            "26\n",
            "27\n",
            "28\n",
            "29\n",
            "30\n",
            "31\n",
            "32\n",
            "33\n",
            "34\n",
            "35\n",
            "36\n",
            "37\n",
            "38\n",
            "39\n",
            "40\n",
            "41\n",
            "42\n",
            "43\n",
            "44\n",
            "45\n",
            "46\n",
            "47\n",
            "48\n",
            "49\n",
            "50\n",
            "51\n",
            "52\n",
            "53\n",
            "54\n",
            "55\n",
            "56\n",
            "57\n",
            "58\n",
            "59\n",
            "60\n",
            "61\n",
            "62\n",
            "63\n",
            "64\n",
            "65\n",
            "66\n",
            "67\n",
            "68\n",
            "69\n",
            "70\n",
            "71\n",
            "72\n",
            "73\n",
            "74\n",
            "75\n",
            "76\n",
            "77\n",
            "78\n",
            "79\n",
            "80\n",
            "81\n",
            "82\n",
            "83\n",
            "84\n",
            "85\n",
            "86\n",
            "87\n",
            "88\n",
            "89\n",
            "90\n",
            "91\n",
            "92\n",
            "93\n",
            "94\n",
            "95\n",
            "96\n",
            "97\n",
            "98\n",
            "99\n",
            "100\n"
          ]
        }
      ]
    },
    {
      "cell_type": "code",
      "source": [
        "for elemento in range (11):\n",
        "  if elemento % 2 == 0:\n",
        "    print(\"Esses numeros são Par: \", elemento)\n",
        "    "
      ],
      "metadata": {
        "colab": {
          "base_uri": "https://localhost:8080/"
        },
        "id": "QhuI-VSttq-7",
        "outputId": "114d96e0-d542-4520-f129-4463bd67e496"
      },
      "execution_count": null,
      "outputs": [
        {
          "output_type": "stream",
          "name": "stdout",
          "text": [
            "Esses numeros são Par:  0\n",
            "Esses numeros são Par:  2\n",
            "Esses numeros são Par:  4\n",
            "Esses numeros são Par:  6\n",
            "Esses numeros são Par:  8\n",
            "Esses numeros são Par:  10\n"
          ]
        }
      ]
    },
    {
      "cell_type": "code",
      "source": [
        "  lista = []\n",
        "  p = 4\n",
        "\n",
        "  for n in range(20):\n",
        "    p += 1\n",
        "    if p <= 20 and p % 2 == 0:\n",
        "      lista.append(p)\n",
        "  print(lista)    "
      ],
      "metadata": {
        "id": "30zsQAMIuWKT",
        "colab": {
          "base_uri": "https://localhost:8080/"
        },
        "outputId": "63a08838-7be6-4ce8-ff79-c38676d3fa64"
      },
      "execution_count": null,
      "outputs": [
        {
          "output_type": "stream",
          "name": "stdout",
          "text": [
            "[6, 8, 10, 12, 14, 16, 18, 20]\n"
          ]
        }
      ]
    },
    {
      "cell_type": "code",
      "source": [
        "temperatura = float(input(\"Qual a temperatura?: \"))\n",
        "if temperatura > 30:\n",
        "  print('Vista roupas leves.')\n",
        "else:\n",
        "  print('Busque seus casacos.')"
      ],
      "metadata": {
        "colab": {
          "base_uri": "https://localhost:8080/"
        },
        "id": "ljmBHqjow7wZ",
        "outputId": "b3cb951f-2059-4e49-a330-3662a420e1b9"
      },
      "execution_count": null,
      "outputs": [
        {
          "output_type": "stream",
          "name": "stdout",
          "text": [
            "Qual a temperatura?: 25\n",
            "Busque seus casacos.\n"
          ]
        }
      ]
    },
    {
      "cell_type": "code",
      "source": [
        "s = 0\n",
        "frase = (\"Educação não transforma o mundo. Educação muda pessoas. Pessoas transformam o mundo.\")\n",
        "for i in frase :\n",
        "  if i == \"s\":\n",
        "    s += 1\n",
        "print(\"contem\",s, 'na frase!')"
      ],
      "metadata": {
        "colab": {
          "base_uri": "https://localhost:8080/"
        },
        "id": "8VOAnXPR5A34",
        "outputId": "2e637cf4-1a0c-467a-9c88-cdc1cf9df14f"
      },
      "execution_count": null,
      "outputs": [
        {
          "output_type": "stream",
          "name": "stdout",
          "text": [
            "contem 8 na frase!\n"
          ]
        }
      ]
    },
    {
      "cell_type": "code",
      "source": [
        "lista = ['a', 'b', 'c', 'd', 'e', 'f', 'g', 'h']\n",
        "print(lista[5:])"
      ],
      "metadata": {
        "colab": {
          "base_uri": "https://localhost:8080/"
        },
        "id": "nUhqUH2U6giU",
        "outputId": "c92a2d44-43ec-4e57-e62d-5a7b6d6219a5"
      },
      "execution_count": null,
      "outputs": [
        {
          "output_type": "stream",
          "name": "stdout",
          "text": [
            "['f', 'g', 'h']\n"
          ]
        }
      ]
    },
    {
      "cell_type": "code",
      "source": [
        "dict1 = {'a':1,'b':2} \n",
        "dict2 = {'c':4,'d':5}\n",
        "dict3 = {'a':4,'b':5}"
      ],
      "metadata": {
        "id": "5s9ncvaVAyfn"
      },
      "execution_count": null,
      "outputs": []
    },
    {
      "cell_type": "code",
      "source": [
        "for um_valor in range(10):\n",
        "  print(um_valor)"
      ],
      "metadata": {
        "colab": {
          "base_uri": "https://localhost:8080/"
        },
        "id": "XMcIwkJdCvDC",
        "outputId": "c531c56d-0766-4643-b648-b746a6a7a543"
      },
      "execution_count": null,
      "outputs": [
        {
          "output_type": "stream",
          "name": "stdout",
          "text": [
            "0\n",
            "1\n",
            "2\n",
            "3\n",
            "4\n",
            "5\n",
            "6\n",
            "7\n",
            "8\n",
            "9\n"
          ]
        }
      ]
    },
    {
      "cell_type": "code",
      "source": [
        "for um_char in \"Venha para a festa\":\n",
        "  print(um_char)"
      ],
      "metadata": {
        "colab": {
          "base_uri": "https://localhost:8080/"
        },
        "id": "WKbWxSfcDWRI",
        "outputId": "95745376-3506-4bfa-a847-12bf6c5e70ee"
      },
      "execution_count": null,
      "outputs": [
        {
          "output_type": "stream",
          "name": "stdout",
          "text": [
            "V\n",
            "e\n",
            "n\n",
            "h\n",
            "a\n",
            " \n",
            "p\n",
            "a\n",
            "r\n",
            "a\n",
            " \n",
            "a\n",
            " \n",
            "f\n",
            "e\n",
            "s\n",
            "t\n",
            "a\n"
          ]
        }
      ]
    }
  ]
}