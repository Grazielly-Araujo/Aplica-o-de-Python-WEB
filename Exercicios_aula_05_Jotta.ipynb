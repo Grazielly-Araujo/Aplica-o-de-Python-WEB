{
  "nbformat": 4,
  "nbformat_minor": 0,
  "metadata": {
    "colab": {
      "provenance": [],
      "authorship_tag": "ABX9TyOT3s2RP/XtbTOvQISmg5sx",
      "include_colab_link": true
    },
    "kernelspec": {
      "name": "python3",
      "display_name": "Python 3"
    },
    "language_info": {
      "name": "python"
    }
  },
  "cells": [
    {
      "cell_type": "markdown",
      "metadata": {
        "id": "view-in-github",
        "colab_type": "text"
      },
      "source": [
        "<a href=\"https://colab.research.google.com/github/Jefferson-Borges-Dev/Aplica-o-de-Python-WEB/blob/main/Exercicios_aula_05_Jotta.ipynb\" target=\"_parent\"><img src=\"https://colab.research.google.com/assets/colab-badge.svg\" alt=\"Open In Colab\"/></a>"
      ]
    },
    {
      "cell_type": "code",
      "execution_count": 117,
      "metadata": {
        "id": "T_DVI5Ua1r0V"
      },
      "outputs": [],
      "source": [
        "# Exercicio 01 Jotta B.\n",
        "\n",
        "class Pessoa():\n",
        "  def __init__ (self, nome, idade):\n",
        "    self.nome = str(input(\"Digite seu nome: \"))\n",
        "    print(nome,\", Seja bem-vindo ao SENAC!\")\n",
        "    self.idade = int(input(\"digite sua idade: \"))\n",
        "    \n",
        "    \n",
        "\n",
        "class PessoaFisica(Pessoa):\n",
        "  def __init__(self, nome, idade, cpf , tipoConta):\n",
        "    nome = str(input(\"Digite seu nome: \"))\n",
        "    print(nome,\", Seja bem-vindo ao SENAC!\")\n",
        "    idade = int(input(\"digite sua idade: \"))\n",
        "    cpf = int(input(\"Digite seu CPF: \"))\n",
        "    tipoConta = str(input(\"Qual o seu tipo de conta?, Fisica ou Juridica: \"))\n",
        "    if (tipoConta == \"fisica\"):\n",
        "      salario = float(input(\"informe seu Salario: \"))\n",
        "      ir = salario * 0.015\n",
        "      print(\"Seu imposto de RENDA é:R$\", ir) \n",
        "    else: \n",
        "      print(nome,\", Sua conta não é fisica!\")\n",
        "\n",
        "class PessoaJuridica(Pessoa):\n",
        "  def __init__(self, nome, idade, cnpj, tipoConta):\n",
        "    nome = str(input(\"Digite seu nome: \"))\n",
        "    print(nome,\", Seja bem-vindo ao SENAC!\")\n",
        "    idade = int(input(\"digite sua idade: \"))\n",
        "    cnpj = int(input(\"Digite seu CPF: \"))\n",
        "    tipoConta = str(input(\"Qual o seu tipo de conta?, Fisica ou Juridica: \"))\n",
        "    if (tipoConta == \"juridica\"):\n",
        "      salario = float(input(\"informe seu Salario: \"))\n",
        "      ir = salario * 0.10\n",
        "      print(\"Seu imposto de RENDA é:R$\", ir)\n",
        "    else: \n",
        "      print(nome,\", Sua conta não é juridica\")\n"
      ]
    },
    {
      "cell_type": "code",
      "source": [
        "usuario = Pessoa(' ',0 ) \n",
        "usuario1 = PessoaFisica(\" \",0 ,0 ,\" \")\n",
        "usuario2 = PessoaJuridica(\" \",0 ,0 ,\" \")"
      ],
      "metadata": {
        "colab": {
          "base_uri": "https://localhost:8080/"
        },
        "id": "MF400Ee9AG34",
        "outputId": "dd1d6b5b-0c65-470c-cfb7-3f1053fc1d60"
      },
      "execution_count": 118,
      "outputs": [
        {
          "output_type": "stream",
          "name": "stdout",
          "text": [
            "Digite seu nome: bia\n",
            "  , Seja bem-vindo ao SENAC!\n",
            "digite sua idade: 15\n",
            "Digite seu nome: junior\n",
            "junior , Seja bem-vindo ao SENAC!\n",
            "digite sua idade: 20\n",
            "Digite seu CPF: 503\n",
            "Qual o seu tipo de conta?, Fisica ou Juridica: fisica\n",
            "informe seu Salario: 1000\n",
            "Seu imposto de RENDA é:R$ 15.0\n",
            "Digite seu nome: vanda\n",
            "vanda , Seja bem-vindo ao SENAC!\n",
            "digite sua idade: 50\n",
            "Digite seu CPF: 541\n",
            "Qual o seu tipo de conta?, Fisica ou Juridica: juridica\n",
            "informe seu Salario: 2000\n",
            "Seu imposto de RENDA é:R$ 200.0\n"
          ]
        }
      ]
    },
    {
      "cell_type": "code",
      "source": [
        "class Pessoa(): # Classe Mãe\n",
        "  def __init__(self, nome, idade):\n",
        "    self.nome = nome\n",
        "    self.idade = idade\n",
        "    print(\"Bem-vindo ao senac,\", nome,\"!\")\n",
        "\n",
        "class PessoaFisica(Pessoa): # Classe filha (Pessoa fisíca)\n",
        "  \n",
        "  def __init__(self, nome, idade, CPF):\n",
        "    super().__init__(nome, idade)\n",
        "    self.CPF = CPF\n",
        "    print(\"Pessoa física\")\n",
        "  \n",
        "  def impostoDeRenda(self): \n",
        "     taxa = (salario * 0.015)\n",
        "     print(\"A taxa sobre seu imposto de renda do\", quantosS,\"° salário é: R$\", taxa)\n",
        "\n",
        "class PessoaJuridica(Pessoa): \n",
        "  \n",
        "  def __init__(self, name, idade, CNPJ, tipo):\n",
        "    super().__init__(name, idade)\n",
        "    self.CNPJ = CNPJ\n",
        "    self.tipo = tipo\n",
        "    print(\"Pessoa jurídica \")\n",
        "\n",
        "  def impostoDeRenda(self): \n",
        "    taxa = (salario * 0.1)\n",
        "    print(\"A taxa sobre seu imposto de renda do\", quantosS,\"° salário é: R$\", taxa)\n",
        "  \n",
        "\n",
        "nome = input(\"Digite seu nome: \").upper()\n",
        "idade = input(\"Digite sua idade: \")\n",
        "pfpj = input(\"Digite PF para Pessoa fisica, ou digite PJ para pessoa juridica: \").upper() \n",
        "\n",
        "\n",
        "if (pfpj == \"PF\") :\n",
        "  CPF = int(input(\"Digite seu CPF: \"))\n",
        "  pessoa = PessoaFisica(nome, idade, CPF)\n",
        "  quantosS = int(input(\"Quantos salários você tem? \"))\n",
        "  for x in range(quantosS): \n",
        "    salário = float(input(\"Digite seu salário: R$\"))\n",
        "    pessoa.impostoDeRenda()\n",
        "\n",
        "\n",
        "\n",
        "elif (pfpj == 'PJ'):\n",
        "  CNPJ = int(input('Digite seu CNPJ: '))\n",
        "  tipo = \"pj\"\n",
        "  pessoa = PessoaJuridica(nome , idade , CNPJ, tipo)\n",
        "  quantosS = int(input(\"Quantos salários você tem? \"))\n",
        "  for x in range(quantosS):\n",
        "    salario = float(input(\"Digite receita: R$\"))\n",
        "    pessoa.impostoDeRenda()\n",
        "\n",
        "\n",
        "else:\n",
        "  print(\"Por favor escolha uma das duas opções.\")"
      ],
      "metadata": {
        "colab": {
          "base_uri": "https://localhost:8080/"
        },
        "id": "Tv2v0CMtC1bd",
        "outputId": "c80bd0e2-73d9-403f-ad70-ac806d13ccdf"
      },
      "execution_count": 26,
      "outputs": [
        {
          "output_type": "stream",
          "name": "stdout",
          "text": [
            "Digite seu nome: jeff\n",
            "Digite sua idade: 29\n",
            "Digite PF para Pessoa fisica, ou digite PJ para pessoa juridica: pj\n",
            "Digite seu CNPJ: 109\n",
            "Bem-vindo ao senac, JEFF !\n",
            "Pessoa jurídica \n",
            "Quantos salários você tem? 2\n",
            "Digite receita: R$2000\n",
            "A taxa sobre seu imposto de renda do 2 ° salário é: R$ 200.0\n",
            "Digite receita: R$10000\n",
            "A taxa sobre seu imposto de renda do 2 ° salário é: R$ 1000.0\n"
          ]
        }
      ]
    },
    {
      "cell_type": "code",
      "source": [],
      "metadata": {
        "id": "SL44SQHQM_1N"
      },
      "execution_count": 5,
      "outputs": []
    }
  ]
}