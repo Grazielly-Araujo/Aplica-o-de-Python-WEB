{
  "nbformat": 4,
  "nbformat_minor": 0,
  "metadata": {
    "colab": {
      "provenance": [],
      "authorship_tag": "ABX9TyOVusu5rvuBqFobA9Z2x5Cv",
      "include_colab_link": true
    },
    "kernelspec": {
      "name": "python3",
      "display_name": "Python 3"
    },
    "language_info": {
      "name": "python"
    }
  },
  "cells": [
    {
      "cell_type": "markdown",
      "metadata": {
        "id": "view-in-github",
        "colab_type": "text"
      },
      "source": [
        "<a href=\"https://colab.research.google.com/github/Jefferson-Borges-Dev/Aplica-o-de-Python-WEB/blob/main/exercicios_str_e_list_tupl_dict_Jotta.ipynb\" target=\"_parent\"><img src=\"https://colab.research.google.com/assets/colab-badge.svg\" alt=\"Open In Colab\"/></a>"
      ]
    },
    {
      "cell_type": "code",
      "execution_count": null,
      "metadata": {
        "id": "s3lKOvB6mmP0"
      },
      "outputs": [],
      "source": []
    },
    {
      "cell_type": "code",
      "source": [
        "nome = str(input(\"Nome: \"))\n",
        "print(nome[-1:-(len(nome)+1):-1].upper())\n"
      ],
      "metadata": {
        "id": "Gb_it97DTqnj",
        "colab": {
          "base_uri": "https://localhost:8080/"
        },
        "outputId": "5add2ed4-2c9c-47ae-ff6b-bc48ce473404"
      },
      "execution_count": null,
      "outputs": [
        {
          "output_type": "stream",
          "name": "stdout",
          "text": [
            "Nome: jefferson\n",
            "NOSREFFEJ\n"
          ]
        }
      ]
    },
    {
      "cell_type": "code",
      "source": [
        "nome = str(input(\"nome: \"))\n",
        "print(nome[::-1].upper())"
      ],
      "metadata": {
        "colab": {
          "base_uri": "https://localhost:8080/"
        },
        "id": "80TUO-ASbglc",
        "outputId": "7f6a2828-919c-4175-9aa5-541e2772a1ad"
      },
      "execution_count": null,
      "outputs": [
        {
          "output_type": "stream",
          "name": "stdout",
          "text": [
            "nome: jefferson\n",
            "NOSREFFEJ\n"
          ]
        }
      ]
    },
    {
      "cell_type": "code",
      "source": [
        "print(list(range(1000)))"
      ],
      "metadata": {
        "colab": {
          "base_uri": "https://localhost:8080/"
        },
        "id": "uDr3yxteb_vI",
        "outputId": "9bfb4662-cefa-4023-a8d4-bbb7a5efe140"
      },
      "execution_count": null,
      "outputs": [
        {
          "output_type": "stream",
          "name": "stdout",
          "text": [
            "[0, 1, 2, 3, 4, 5, 6, 7, 8, 9, 10, 11, 12, 13, 14, 15, 16, 17, 18, 19, 20, 21, 22, 23, 24, 25, 26, 27, 28, 29, 30, 31, 32, 33, 34, 35, 36, 37, 38, 39, 40, 41, 42, 43, 44, 45, 46, 47, 48, 49, 50, 51, 52, 53, 54, 55, 56, 57, 58, 59, 60, 61, 62, 63, 64, 65, 66, 67, 68, 69, 70, 71, 72, 73, 74, 75, 76, 77, 78, 79, 80, 81, 82, 83, 84, 85, 86, 87, 88, 89, 90, 91, 92, 93, 94, 95, 96, 97, 98, 99, 100, 101, 102, 103, 104, 105, 106, 107, 108, 109, 110, 111, 112, 113, 114, 115, 116, 117, 118, 119, 120, 121, 122, 123, 124, 125, 126, 127, 128, 129, 130, 131, 132, 133, 134, 135, 136, 137, 138, 139, 140, 141, 142, 143, 144, 145, 146, 147, 148, 149, 150, 151, 152, 153, 154, 155, 156, 157, 158, 159, 160, 161, 162, 163, 164, 165, 166, 167, 168, 169, 170, 171, 172, 173, 174, 175, 176, 177, 178, 179, 180, 181, 182, 183, 184, 185, 186, 187, 188, 189, 190, 191, 192, 193, 194, 195, 196, 197, 198, 199, 200, 201, 202, 203, 204, 205, 206, 207, 208, 209, 210, 211, 212, 213, 214, 215, 216, 217, 218, 219, 220, 221, 222, 223, 224, 225, 226, 227, 228, 229, 230, 231, 232, 233, 234, 235, 236, 237, 238, 239, 240, 241, 242, 243, 244, 245, 246, 247, 248, 249, 250, 251, 252, 253, 254, 255, 256, 257, 258, 259, 260, 261, 262, 263, 264, 265, 266, 267, 268, 269, 270, 271, 272, 273, 274, 275, 276, 277, 278, 279, 280, 281, 282, 283, 284, 285, 286, 287, 288, 289, 290, 291, 292, 293, 294, 295, 296, 297, 298, 299, 300, 301, 302, 303, 304, 305, 306, 307, 308, 309, 310, 311, 312, 313, 314, 315, 316, 317, 318, 319, 320, 321, 322, 323, 324, 325, 326, 327, 328, 329, 330, 331, 332, 333, 334, 335, 336, 337, 338, 339, 340, 341, 342, 343, 344, 345, 346, 347, 348, 349, 350, 351, 352, 353, 354, 355, 356, 357, 358, 359, 360, 361, 362, 363, 364, 365, 366, 367, 368, 369, 370, 371, 372, 373, 374, 375, 376, 377, 378, 379, 380, 381, 382, 383, 384, 385, 386, 387, 388, 389, 390, 391, 392, 393, 394, 395, 396, 397, 398, 399, 400, 401, 402, 403, 404, 405, 406, 407, 408, 409, 410, 411, 412, 413, 414, 415, 416, 417, 418, 419, 420, 421, 422, 423, 424, 425, 426, 427, 428, 429, 430, 431, 432, 433, 434, 435, 436, 437, 438, 439, 440, 441, 442, 443, 444, 445, 446, 447, 448, 449, 450, 451, 452, 453, 454, 455, 456, 457, 458, 459, 460, 461, 462, 463, 464, 465, 466, 467, 468, 469, 470, 471, 472, 473, 474, 475, 476, 477, 478, 479, 480, 481, 482, 483, 484, 485, 486, 487, 488, 489, 490, 491, 492, 493, 494, 495, 496, 497, 498, 499, 500, 501, 502, 503, 504, 505, 506, 507, 508, 509, 510, 511, 512, 513, 514, 515, 516, 517, 518, 519, 520, 521, 522, 523, 524, 525, 526, 527, 528, 529, 530, 531, 532, 533, 534, 535, 536, 537, 538, 539, 540, 541, 542, 543, 544, 545, 546, 547, 548, 549, 550, 551, 552, 553, 554, 555, 556, 557, 558, 559, 560, 561, 562, 563, 564, 565, 566, 567, 568, 569, 570, 571, 572, 573, 574, 575, 576, 577, 578, 579, 580, 581, 582, 583, 584, 585, 586, 587, 588, 589, 590, 591, 592, 593, 594, 595, 596, 597, 598, 599, 600, 601, 602, 603, 604, 605, 606, 607, 608, 609, 610, 611, 612, 613, 614, 615, 616, 617, 618, 619, 620, 621, 622, 623, 624, 625, 626, 627, 628, 629, 630, 631, 632, 633, 634, 635, 636, 637, 638, 639, 640, 641, 642, 643, 644, 645, 646, 647, 648, 649, 650, 651, 652, 653, 654, 655, 656, 657, 658, 659, 660, 661, 662, 663, 664, 665, 666, 667, 668, 669, 670, 671, 672, 673, 674, 675, 676, 677, 678, 679, 680, 681, 682, 683, 684, 685, 686, 687, 688, 689, 690, 691, 692, 693, 694, 695, 696, 697, 698, 699, 700, 701, 702, 703, 704, 705, 706, 707, 708, 709, 710, 711, 712, 713, 714, 715, 716, 717, 718, 719, 720, 721, 722, 723, 724, 725, 726, 727, 728, 729, 730, 731, 732, 733, 734, 735, 736, 737, 738, 739, 740, 741, 742, 743, 744, 745, 746, 747, 748, 749, 750, 751, 752, 753, 754, 755, 756, 757, 758, 759, 760, 761, 762, 763, 764, 765, 766, 767, 768, 769, 770, 771, 772, 773, 774, 775, 776, 777, 778, 779, 780, 781, 782, 783, 784, 785, 786, 787, 788, 789, 790, 791, 792, 793, 794, 795, 796, 797, 798, 799, 800, 801, 802, 803, 804, 805, 806, 807, 808, 809, 810, 811, 812, 813, 814, 815, 816, 817, 818, 819, 820, 821, 822, 823, 824, 825, 826, 827, 828, 829, 830, 831, 832, 833, 834, 835, 836, 837, 838, 839, 840, 841, 842, 843, 844, 845, 846, 847, 848, 849, 850, 851, 852, 853, 854, 855, 856, 857, 858, 859, 860, 861, 862, 863, 864, 865, 866, 867, 868, 869, 870, 871, 872, 873, 874, 875, 876, 877, 878, 879, 880, 881, 882, 883, 884, 885, 886, 887, 888, 889, 890, 891, 892, 893, 894, 895, 896, 897, 898, 899, 900, 901, 902, 903, 904, 905, 906, 907, 908, 909, 910, 911, 912, 913, 914, 915, 916, 917, 918, 919, 920, 921, 922, 923, 924, 925, 926, 927, 928, 929, 930, 931, 932, 933, 934, 935, 936, 937, 938, 939, 940, 941, 942, 943, 944, 945, 946, 947, 948, 949, 950, 951, 952, 953, 954, 955, 956, 957, 958, 959, 960, 961, 962, 963, 964, 965, 966, 967, 968, 969, 970, 971, 972, 973, 974, 975, 976, 977, 978, 979, 980, 981, 982, 983, 984, 985, 986, 987, 988, 989, 990, 991, 992, 993, 994, 995, 996, 997, 998, 999]\n"
          ]
        }
      ]
    },
    {
      "cell_type": "code",
      "source": [
        "print(list(range(0,300,5)))"
      ],
      "metadata": {
        "colab": {
          "base_uri": "https://localhost:8080/"
        },
        "id": "b2e7XO_vcLow",
        "outputId": "1f4081ef-5db8-4a1b-ad8c-2bfe380fddb9"
      },
      "execution_count": null,
      "outputs": [
        {
          "output_type": "stream",
          "name": "stdout",
          "text": [
            "[0, 5, 10, 15, 20, 25, 30, 35, 40, 45, 50, 55, 60, 65, 70, 75, 80, 85, 90, 95, 100, 105, 110, 115, 120, 125, 130, 135, 140, 145, 150, 155, 160, 165, 170, 175, 180, 185, 190, 195, 200, 205, 210, 215, 220, 225, 230, 235, 240, 245, 250, 255, 260, 265, 270, 275, 280, 285, 290, 295]\n"
          ]
        }
      ]
    },
    {
      "cell_type": "code",
      "source": [
        "dict1= {'a':1,'b':2}"
      ],
      "metadata": {
        "id": "8JdXwjkocRLw"
      },
      "execution_count": null,
      "outputs": []
    },
    {
      "cell_type": "code",
      "source": [
        "dict2 = {'c':4,'d':5}"
      ],
      "metadata": {
        "id": "O_U8rnRfce22"
      },
      "execution_count": null,
      "outputs": []
    },
    {
      "cell_type": "code",
      "source": [
        "listadict = [(list(dict1)), list(dict1.values()),(list(dict2)), list(dict2.values())]"
      ],
      "metadata": {
        "id": "sOp2nLjBcnbH"
      },
      "execution_count": null,
      "outputs": []
    },
    {
      "cell_type": "code",
      "source": [
        "dict3={}\n",
        "print(listadict)"
      ],
      "metadata": {
        "colab": {
          "base_uri": "https://localhost:8080/"
        },
        "id": "XOxt07rqc7p7",
        "outputId": "6963c2ab-7984-439a-c209-52eeba1a76ad"
      },
      "execution_count": null,
      "outputs": [
        {
          "output_type": "stream",
          "name": "stdout",
          "text": [
            "[['a', 'b'], [1, 2], ['c', 'd'], [4, 5]]\n"
          ]
        }
      ]
    },
    {
      "cell_type": "code",
      "source": [
        "s = \"Hello, World\""
      ],
      "metadata": {
        "id": "_ihtKsCedCQ9"
      },
      "execution_count": null,
      "outputs": []
    },
    {
      "cell_type": "code",
      "source": [
        "print(s.upper())"
      ],
      "metadata": {
        "colab": {
          "base_uri": "https://localhost:8080/"
        },
        "id": "p3BI-ibqdN5F",
        "outputId": "8b54f48c-c4cb-4d65-cdb7-caca38b6244a"
      },
      "execution_count": null,
      "outputs": [
        {
          "output_type": "stream",
          "name": "stdout",
          "text": [
            "HELLO, WORLD\n"
          ]
        }
      ]
    },
    {
      "cell_type": "code",
      "source": [
        "t = s.lower()"
      ],
      "metadata": {
        "id": "kq93m0_xdQ52"
      },
      "execution_count": null,
      "outputs": []
    },
    {
      "cell_type": "code",
      "source": [
        "print(t)"
      ],
      "metadata": {
        "colab": {
          "base_uri": "https://localhost:8080/"
        },
        "id": "A28PHSC1dUQG",
        "outputId": "462c6007-5e9f-4e6c-9114-2bfc1b7ab16e"
      },
      "execution_count": null,
      "outputs": [
        {
          "output_type": "stream",
          "name": "stdout",
          "text": [
            "hello, world\n"
          ]
        }
      ]
    },
    {
      "cell_type": "code",
      "source": [
        "s = \"python\""
      ],
      "metadata": {
        "id": "DpxAW0I2dWLN"
      },
      "execution_count": null,
      "outputs": []
    },
    {
      "cell_type": "code",
      "source": [
        "e = \"!\"\n",
        "print(s+e*3)"
      ],
      "metadata": {
        "colab": {
          "base_uri": "https://localhost:8080/"
        },
        "id": "zXE-ihqGdazV",
        "outputId": "9e0028f3-13d7-4a79-b9c9-1914c538aaae"
      },
      "execution_count": null,
      "outputs": [
        {
          "output_type": "stream",
          "name": "stdout",
          "text": [
            "python!!!\n"
          ]
        }
      ]
    },
    {
      "cell_type": "code",
      "source": [
        "ss= \"      Hello, World        \""
      ],
      "metadata": {
        "id": "b-34MMNfdhRc"
      },
      "execution_count": null,
      "outputs": []
    },
    {
      "cell_type": "code",
      "source": [
        "xx = ss.count(\"l\")"
      ],
      "metadata": {
        "id": "PUbJSZ5chgI7"
      },
      "execution_count": null,
      "outputs": []
    },
    {
      "cell_type": "code",
      "source": [
        "print(xx)"
      ],
      "metadata": {
        "colab": {
          "base_uri": "https://localhost:8080/"
        },
        "id": "Vs1BkA29hlRq",
        "outputId": "19e95bbd-f346-439f-f271-de0243f77930"
      },
      "execution_count": null,
      "outputs": [
        {
          "output_type": "stream",
          "name": "stdout",
          "text": [
            "3\n"
          ]
        }
      ]
    },
    {
      "cell_type": "code",
      "source": [
        "print(\"***\"+ss.strip()+\"***\")\n",
        "print(\"***\"+ss.lstrip()+\"***\")\n",
        "print(\"***\"+ss.rstrip()+\"***\")\n",
        "news = ss.replace(\"o\", \"***\")"
      ],
      "metadata": {
        "colab": {
          "base_uri": "https://localhost:8080/"
        },
        "id": "ITvdANnehoMa",
        "outputId": "f007ee61-02b9-416d-f775-85f584b76b3b"
      },
      "execution_count": null,
      "outputs": [
        {
          "output_type": "stream",
          "name": "stdout",
          "text": [
            "***Hello, World***\n",
            "***Hello, World        ***\n",
            "***      Hello, World***\n"
          ]
        }
      ]
    },
    {
      "cell_type": "code",
      "source": [
        "print(news)"
      ],
      "metadata": {
        "colab": {
          "base_uri": "https://localhost:8080/"
        },
        "id": "OfMtbpsfiFEI",
        "outputId": "097f6751-8cba-4811-a0af-c291d4a76185"
      },
      "execution_count": null,
      "outputs": [
        {
          "output_type": "stream",
          "name": "stdout",
          "text": [
            "      Hell***, W***rld        \n"
          ]
        }
      ]
    },
    {
      "cell_type": "code",
      "source": [
        "food = \"banana bread\"\n",
        "print(food.capitalize())\n",
        "print(\"*\"+food.center(25)+\"*\")\n",
        "print(\"*\"+food.ljust(25)+\"*\")\n",
        "print(\"*\"+food.rjust(25)+\"*\")"
      ],
      "metadata": {
        "colab": {
          "base_uri": "https://localhost:8080/"
        },
        "id": "v2juIMEEiH_A",
        "outputId": "1ebbc150-a1aa-4791-8579-13683cd266b1"
      },
      "execution_count": null,
      "outputs": [
        {
          "output_type": "stream",
          "name": "stdout",
          "text": [
            "Banana bread\n",
            "*       banana bread      *\n",
            "*banana bread             *\n",
            "*             banana bread*\n"
          ]
        }
      ]
    },
    {
      "cell_type": "code",
      "source": [
        "print(food.find(\"e\"))\n",
        "print(food.find(\"na\"))\n",
        "print(food.find(\"b\"))"
      ],
      "metadata": {
        "colab": {
          "base_uri": "https://localhost:8080/"
        },
        "id": "rwr5rfcgi9ek",
        "outputId": "54c3edbb-d03f-4bd3-d8c3-f76181994652"
      },
      "execution_count": null,
      "outputs": [
        {
          "output_type": "stream",
          "name": "stdout",
          "text": [
            "9\n",
            "2\n",
            "0\n"
          ]
        }
      ]
    },
    {
      "cell_type": "code",
      "source": [
        "print(food.rfind(\"e\"))"
      ],
      "metadata": {
        "colab": {
          "base_uri": "https://localhost:8080/"
        },
        "id": "isjykGEQjOEF",
        "outputId": "5519674e-9a61-4d6e-d778-53fa1ca2e567"
      },
      "execution_count": null,
      "outputs": [
        {
          "output_type": "stream",
          "name": "stdout",
          "text": [
            "9\n"
          ]
        }
      ]
    },
    {
      "cell_type": "code",
      "source": [
        "print(food.rfind(\"na\"))\n",
        "print(food.rfind(\"b\"))"
      ],
      "metadata": {
        "colab": {
          "base_uri": "https://localhost:8080/"
        },
        "id": "ykhg0C_mjazF",
        "outputId": "6f8ed886-b20a-464e-86fa-c692201aff10"
      },
      "execution_count": null,
      "outputs": [
        {
          "output_type": "stream",
          "name": "stdout",
          "text": [
            "4\n",
            "7\n"
          ]
        }
      ]
    },
    {
      "cell_type": "code",
      "source": [
        "s = \"python rocks\"\n",
        "print(s[1]*s.index(\"n\"))"
      ],
      "metadata": {
        "colab": {
          "base_uri": "https://localhost:8080/"
        },
        "id": "ESTvhesejhCl",
        "outputId": "e68bc8f7-6db3-4fd2-844a-fedbb06a2901"
      },
      "execution_count": null,
      "outputs": [
        {
          "output_type": "stream",
          "name": "stdout",
          "text": [
            "yyyyy\n"
          ]
        }
      ]
    },
    {
      "cell_type": "code",
      "source": [
        "pets = \"Marlene, Cibele, Suely\"\n",
        "print(pets[0:5])\n",
        "print(pets[7:11])\n",
        "print(pets[17:21])"
      ],
      "metadata": {
        "colab": {
          "base_uri": "https://localhost:8080/"
        },
        "id": "TEXCOG-Nj0WM",
        "outputId": "95c9e454-b2ad-48d4-b579-a64637089fee"
      },
      "execution_count": null,
      "outputs": [
        {
          "output_type": "stream",
          "name": "stdout",
          "text": [
            "Marle\n",
            ", Ci\n",
            "Suel\n"
          ]
        }
      ]
    },
    {
      "cell_type": "code",
      "source": [
        "print('a' in 'a')\n",
        "print('apple' in 'apple')"
      ],
      "metadata": {
        "colab": {
          "base_uri": "https://localhost:8080/"
        },
        "id": "b1RSiSwHkSNL",
        "outputId": "ece1a6e0-833e-4fb5-ed09-a94623add171"
      },
      "execution_count": null,
      "outputs": [
        {
          "output_type": "stream",
          "name": "stdout",
          "text": [
            "True\n",
            "True\n"
          ]
        }
      ]
    },
    {
      "cell_type": "code",
      "source": [
        "print('' in 'a')\n",
        "print(' ' in 'apple')"
      ],
      "metadata": {
        "colab": {
          "base_uri": "https://localhost:8080/"
        },
        "id": "XdHm1I0PksSS",
        "outputId": "79180961-fed5-40fc-9daa-8350f790f4e4"
      },
      "execution_count": null,
      "outputs": [
        {
          "output_type": "stream",
          "name": "stdout",
          "text": [
            "True\n",
            "False\n"
          ]
        }
      ]
    },
    {
      "cell_type": "code",
      "source": [
        "print('x' not in 'apple')"
      ],
      "metadata": {
        "colab": {
          "base_uri": "https://localhost:8080/"
        },
        "id": "bOag41URkxpS",
        "outputId": "7c12d8d2-d9d8-46a7-df1b-8d5fee4987c9"
      },
      "execution_count": 1,
      "outputs": [
        {
          "output_type": "stream",
          "name": "stdout",
          "text": [
            "True\n"
          ]
        }
      ]
    },
    {
      "cell_type": "code",
      "source": [
        "palavras = [\"codigo\",\"linuagem\",\"web\"]\n",
        "print(palavras)"
      ],
      "metadata": {
        "colab": {
          "base_uri": "https://localhost:8080/"
        },
        "id": "2w6MSeRipHtA",
        "outputId": "d694101e-a6b2-4622-e91e-67b00802dc62"
      },
      "execution_count": 11,
      "outputs": [
        {
          "output_type": "stream",
          "name": "stdout",
          "text": [
            "['codigo', 'linuagem', 'web']\n"
          ]
        }
      ]
    },
    {
      "cell_type": "code",
      "source": [
        "numeros = [18,123]"
      ],
      "metadata": {
        "id": "EZ7dQLVcpTU2"
      },
      "execution_count": 3,
      "outputs": []
    },
    {
      "cell_type": "code",
      "source": [
        "vazia = []\n",
        "lista_mista = [\"oi\",2.0, 5*2,[10,20]]"
      ],
      "metadata": {
        "id": "P_6FhEikpWHt"
      },
      "execution_count": 4,
      "outputs": []
    },
    {
      "cell_type": "code",
      "source": [
        "print(numeros)"
      ],
      "metadata": {
        "colab": {
          "base_uri": "https://localhost:8080/"
        },
        "id": "oHttaqIDpjYN",
        "outputId": "6b5c8ac8-76c7-44fe-dad0-03ddd1330cae"
      },
      "execution_count": 5,
      "outputs": [
        {
          "output_type": "stream",
          "name": "stdout",
          "text": [
            "[18, 123]\n"
          ]
        }
      ]
    },
    {
      "cell_type": "code",
      "source": [
        "print(lista_mista)"
      ],
      "metadata": {
        "colab": {
          "base_uri": "https://localhost:8080/"
        },
        "id": "meUaVdOOpqQd",
        "outputId": "91cbeeb2-1a2b-4e2f-d498-e34f0d983120"
      },
      "execution_count": 6,
      "outputs": [
        {
          "output_type": "stream",
          "name": "stdout",
          "text": [
            "['oi', 2.0, 10, [10, 20]]\n"
          ]
        }
      ]
    },
    {
      "cell_type": "code",
      "source": [
        "nova_lista = [numeros, palavras]\n",
        "print(nova_lista)"
      ],
      "metadata": {
        "colab": {
          "base_uri": "https://localhost:8080/"
        },
        "id": "ABzD8IlIptKd",
        "outputId": "4474ecc7-33d2-4abc-a0e6-7644d0520532"
      },
      "execution_count": 13,
      "outputs": [
        {
          "output_type": "stream",
          "name": "stdout",
          "text": [
            "[[18, 123], ['codigo', 'linuagem', 'web']]\n"
          ]
        }
      ]
    },
    {
      "cell_type": "code",
      "source": [
        "uma_lista = [\"oi\",2.0,5,[10,20]]\n",
        "print(len(uma_lista)) "
      ],
      "metadata": {
        "colab": {
          "base_uri": "https://localhost:8080/"
        },
        "id": "noEY34L0p3Vn",
        "outputId": "3deb9806-98bd-4115-c08d-6bbcd9898c62"
      },
      "execution_count": 16,
      "outputs": [
        {
          "output_type": "stream",
          "name": "stdout",
          "text": [
            "4\n"
          ]
        }
      ]
    },
    {
      "cell_type": "code",
      "source": [
        "print(len([\"spam!\", 1, [\"bolo\", \"bolacha\", \"bisoito\"],[1,2,3]]))"
      ],
      "metadata": {
        "colab": {
          "base_uri": "https://localhost:8080/"
        },
        "id": "L1Z9UbGFrPOm",
        "outputId": "061947bb-5a91-4b00-cfe0-b4f8911fc38e"
      },
      "execution_count": 17,
      "outputs": [
        {
          "output_type": "stream",
          "name": "stdout",
          "text": [
            "4\n"
          ]
        }
      ]
    },
    {
      "cell_type": "code",
      "source": [
        "numeros = [18, 424, 86, 13, 66, 8338, 74]\n",
        "print(numeros[2])\n",
        "print(numeros[9-8])\n",
        "print(numeros[-2])\n",
        "print(numeros[len(numeros)-1])"
      ],
      "metadata": {
        "colab": {
          "base_uri": "https://localhost:8080/"
        },
        "id": "czd4Io_mrtjw",
        "outputId": "ef32c0e1-9c55-478a-e00b-069d8652498a"
      },
      "execution_count": 18,
      "outputs": [
        {
          "output_type": "stream",
          "name": "stdout",
          "text": [
            "86\n",
            "424\n",
            "8338\n",
            "74\n"
          ]
        }
      ]
    },
    {
      "cell_type": "code",
      "source": [
        "uma_lista = [3, 5, \"Cibele\", 3.14, False]\n",
        "print(len(uma_lista))"
      ],
      "metadata": {
        "colab": {
          "base_uri": "https://localhost:8080/"
        },
        "id": "oRbCcr06r3d3",
        "outputId": "0566bdb8-bfab-474e-ecca-7cb015f8c6d6"
      },
      "execution_count": 19,
      "outputs": [
        {
          "output_type": "stream",
          "name": "stdout",
          "text": [
            "5\n"
          ]
        }
      ]
    },
    {
      "cell_type": "code",
      "source": [
        "uma_lista = [3, 5, \"Cibele\", [88, 99, \"Suely\"], [ ], 3.14, False]\n",
        "print(len(uma_lista)) # uma lista dentro de outra conta como 1 elemento. "
      ],
      "metadata": {
        "colab": {
          "base_uri": "https://localhost:8080/"
        },
        "id": "Kz2wwgi7sN12",
        "outputId": "f83001f3-5685-4ba0-e177-2b3c4e156287"
      },
      "execution_count": 20,
      "outputs": [
        {
          "output_type": "stream",
          "name": "stdout",
          "text": [
            "7\n"
          ]
        }
      ]
    },
    {
      "cell_type": "code",
      "source": [
        "uma_lista = [3, 5, \"Cibele\", [88, 99, \"Suely\"], [ ], 3.14, False]\n",
        "print(uma_lista[2].upper()) # pediu para imprimir o indice 2 em caixa alta"
      ],
      "metadata": {
        "colab": {
          "base_uri": "https://localhost:8080/"
        },
        "id": "eRXZRKMUsbtu",
        "outputId": "e2400bd3-ed08-494b-f278-a51557167d8f"
      },
      "execution_count": 21,
      "outputs": [
        {
          "output_type": "stream",
          "name": "stdout",
          "text": [
            "CIBELE\n"
          ]
        }
      ]
    },
    {
      "cell_type": "code",
      "source": [
        "uma_lista = [3, 5, \"Cibele\", [88, 99, \"Suely\"], [ ], 3.14, False]\n",
        "print(uma_lista[2][0]) #pediu pra imprimir apenas a posição Zero do indice 2"
      ],
      "metadata": {
        "colab": {
          "base_uri": "https://localhost:8080/"
        },
        "id": "UlpL9OrMsufB",
        "outputId": "e93074b8-38b9-45d7-aede-10530b9aea13"
      },
      "execution_count": 23,
      "outputs": [
        {
          "output_type": "stream",
          "name": "stdout",
          "text": [
            "C\n"
          ]
        }
      ]
    },
    {
      "cell_type": "code",
      "source": [
        "uma_lista = [3, 5, \"Cibele\", [88, 99, \"Suely\"], [ ], 3.14, False]\n",
        "print(3.14 in uma_lista)"
      ],
      "metadata": {
        "colab": {
          "base_uri": "https://localhost:8080/"
        },
        "id": "g-5j4mYGs9ge",
        "outputId": "22a05b50-2e64-4a57-af89-b95da682e798"
      },
      "execution_count": 24,
      "outputs": [
        {
          "output_type": "stream",
          "name": "stdout",
          "text": [
            "True\n"
          ]
        }
      ]
    },
    {
      "cell_type": "code",
      "source": [
        "uma_lista = [3, 5, \"Cibele\", [88, 99, \"Suely\"], [ ], 3.14, False]\n",
        "print(88 in uma_lista)  # da False por que ele entende que 88 faz parte de outra lista onde a mesma não foi declarada, apenas esta dentro da lista chamada. "
      ],
      "metadata": {
        "colab": {
          "base_uri": "https://localhost:8080/"
        },
        "id": "MR-JKB1etMtE",
        "outputId": "476a2d62-7074-4c3f-ddd5-1dc657d3fe36"
      },
      "execution_count": 25,
      "outputs": [
        {
          "output_type": "stream",
          "name": "stdout",
          "text": [
            "False\n"
          ]
        }
      ]
    },
    {
      "cell_type": "code",
      "source": [
        "uma_lista = [1, 3, 5]\n",
        "outra_lista = [2, 4, 6]\n",
        "print(uma_lista + outra_lista)"
      ],
      "metadata": {
        "colab": {
          "base_uri": "https://localhost:8080/"
        },
        "id": "cl4taxIwtSYb",
        "outputId": "a9a7b8ae-655b-4140-abcd-90e6d45320dc"
      },
      "execution_count": 26,
      "outputs": [
        {
          "output_type": "stream",
          "name": "stdout",
          "text": [
            "[1, 3, 5, 2, 4, 6]\n"
          ]
        }
      ]
    },
    {
      "cell_type": "code",
      "source": [
        "uma_lista = [1, 3, 5]\n",
        "print(uma_lista * 3)"
      ],
      "metadata": {
        "colab": {
          "base_uri": "https://localhost:8080/"
        },
        "id": "StmgmGILtm-j",
        "outputId": "4a2477af-e72a-46f2-aba4-3eeb1b5f7f2b"
      },
      "execution_count": 27,
      "outputs": [
        {
          "output_type": "stream",
          "name": "stdout",
          "text": [
            "[1, 3, 5, 1, 3, 5, 1, 3, 5]\n"
          ]
        }
      ]
    },
    {
      "cell_type": "code",
      "source": [
        "uma_lista = [3, 5, \"Cibele\", [88, 99, \"Suely\"], [ ], 3.14, False]\n",
        "print(uma_lista[4:])"
      ],
      "metadata": {
        "colab": {
          "base_uri": "https://localhost:8080/"
        },
        "id": "indjFuRqtrKq",
        "outputId": "2f17bddc-7ce6-45d3-f990-49f6eebcdfc8"
      },
      "execution_count": 28,
      "outputs": [
        {
          "output_type": "stream",
          "name": "stdout",
          "text": [
            "[[], 3.14, False]\n"
          ]
        }
      ]
    },
    {
      "cell_type": "code",
      "source": [
        "uma_lista = ['a', 'b', 'c', 'd', 'e', 'f']\n",
        "uma_lista[1:3] = ['x', 'y']  # fez a referencia aos elementos quias queira e substituiu.\n",
        "print(uma_lista)"
      ],
      "metadata": {
        "colab": {
          "base_uri": "https://localhost:8080/"
        },
        "id": "y45V62VDt0hy",
        "outputId": "fba8d86b-7987-4f17-ca5d-a9513dec5c53"
      },
      "execution_count": 30,
      "outputs": [
        {
          "output_type": "stream",
          "name": "stdout",
          "text": [
            "['a', 'x', 'y', 'd', 'e', 'f']\n"
          ]
        }
      ]
    },
    {
      "cell_type": "code",
      "source": [
        "uma_lista = ['a', 'b', 'c', 'd', 'e', 'f']\n",
        "uma_lista[1:3] = []  # usou uma lista (OS COCHETES) vazios para excluir os elementos da lista. \n",
        "print(uma_lista)"
      ],
      "metadata": {
        "colab": {
          "base_uri": "https://localhost:8080/"
        },
        "id": "-e6vFb6EuCsx",
        "outputId": "7a80800b-f998-4512-a2b1-a7f4a2205ded"
      },
      "execution_count": 32,
      "outputs": [
        {
          "output_type": "stream",
          "name": "stdout",
          "text": [
            "['a', 'd', 'e', 'f']\n"
          ]
        }
      ]
    },
    {
      "cell_type": "code",
      "source": [
        "uma_lista = ['a', 'd', 'f']\n",
        "uma_lista[1:1] = ['b', 'c']\n",
        "print(uma_lista)\n",
        "uma_lista[4:4] = ['e'] # da mesma forma que consegue excluir consegue add o elemento na posição informada... pra ser mais exato consegue substituir os valores. \n",
        "print(uma_lista)"
      ],
      "metadata": {
        "colab": {
          "base_uri": "https://localhost:8080/"
        },
        "id": "5vXQhWTkuXeA",
        "outputId": "d6802b85-c660-4f73-d2c1-cceed77d51e8"
      },
      "execution_count": 34,
      "outputs": [
        {
          "output_type": "stream",
          "name": "stdout",
          "text": [
            "['a', 'b', 'c', 'd', 'f']\n",
            "['a', 'b', 'c', 'd', 'e', 'f']\n"
          ]
        }
      ]
    },
    {
      "cell_type": "code",
      "source": [
        "uma_lista = [4, 1, 8, 6, 3]\n",
        "uma_lista[2] = True  #SUBSTITUIU\n",
        "print(uma_lista)"
      ],
      "metadata": {
        "colab": {
          "base_uri": "https://localhost:8080/"
        },
        "id": "kbn9PkuzuuG_",
        "outputId": "871f56bc-3281-4f2d-fbaf-ec077151fad0"
      },
      "execution_count": 36,
      "outputs": [
        {
          "output_type": "stream",
          "name": "stdout",
          "text": [
            "[4, 1, True, 6, 3]\n"
          ]
        }
      ]
    },
    {
      "cell_type": "code",
      "source": [
        "a = ['um', 'dois', 'três']\n",
        "del a[1]\n",
        "print(a)\n",
        "lista = ['a', 'b', 'c', 'd', 'e', 'f']\n",
        "del lista[1:5]\n",
        "print(lista)"
      ],
      "metadata": {
        "colab": {
          "base_uri": "https://localhost:8080/"
        },
        "id": "dfss67divLaH",
        "outputId": "74ba0a5c-6dfa-4f1d-c186-c1a7d696f33f"
      },
      "execution_count": 38,
      "outputs": [
        {
          "output_type": "stream",
          "name": "stdout",
          "text": [
            "['um', 'três']\n",
            "['a', 'f']\n"
          ]
        }
      ]
    },
    {
      "cell_type": "code",
      "source": [
        "lista_a = [4, 1, 8, 6, 3]\n",
        "lista_b = lista_a\n",
        "lista_b[3] = 22\n",
        "print(lista_a)"
      ],
      "metadata": {
        "colab": {
          "base_uri": "https://localhost:8080/"
        },
        "id": "QUqBTCI6vcaG",
        "outputId": "9b237c32-b615-4059-9253-19fea77a970d"
      },
      "execution_count": 39,
      "outputs": [
        {
          "output_type": "stream",
          "name": "stdout",
          "text": [
            "[4, 1, 8, 22, 3]\n"
          ]
        }
      ]
    },
    {
      "cell_type": "code",
      "source": [
        "lista_original = [5, 6, 7, 8]\n",
        "print(lista_original*3)"
      ],
      "metadata": {
        "colab": {
          "base_uri": "https://localhost:8080/"
        },
        "id": "GtBTKluBxjOZ",
        "outputId": "67796b2b-9015-4708-b7de-861665fb19e7"
      },
      "execution_count": 40,
      "outputs": [
        {
          "output_type": "stream",
          "name": "stdout",
          "text": [
            "[5, 6, 7, 8, 5, 6, 7, 8, 5, 6, 7, 8]\n"
          ]
        }
      ]
    },
    {
      "cell_type": "code",
      "source": [
        "lista_original = [5, 6, 7, 8]\n",
        "print(lista_original*3)\n",
        "lista_nova = [lista_original] * 3 # Ao usar os ([]) ele coloca os resultados dentro de listas \n",
        "print(lista_nova)"
      ],
      "metadata": {
        "colab": {
          "base_uri": "https://localhost:8080/"
        },
        "id": "DC8PDdycxqSw",
        "outputId": "816d858d-e071-40a4-c284-b76226cc9e72"
      },
      "execution_count": 42,
      "outputs": [
        {
          "output_type": "stream",
          "name": "stdout",
          "text": [
            "[5, 6, 7, 8, 5, 6, 7, 8, 5, 6, 7, 8]\n",
            "[[5, 6, 7, 8], [5, 6, 7, 8], [5, 6, 7, 8]]\n"
          ]
        }
      ]
    },
    {
      "cell_type": "code",
      "source": [
        "lista_original = [5, 6, 7, 8]\n",
        "lista_nova = [lista_original] * 3\n",
        "print(lista_nova)\n",
        "lista_original[1] = 22\n",
        "print(lista_nova)"
      ],
      "metadata": {
        "colab": {
          "base_uri": "https://localhost:8080/"
        },
        "id": "WD_35bfRxu_4",
        "outputId": "6c5910a3-1385-4751-f13f-be12370e93c7"
      },
      "execution_count": 43,
      "outputs": [
        {
          "output_type": "stream",
          "name": "stdout",
          "text": [
            "[[5, 6, 7, 8], [5, 6, 7, 8], [5, 6, 7, 8]]\n",
            "[[5, 22, 7, 8], [5, 22, 7, 8], [5, 22, 7, 8]]\n"
          ]
        }
      ]
    },
    {
      "cell_type": "code",
      "source": [
        "lista_a = [4, 1, 8, 6, 3]\n",
        "lista_b = lista_a * 2\n",
        "lista_b[3] = 35\n",
        "print(lista_a)\n",
        "lista_a = [4, 1, 8, 6, 3]\n",
        "lista_b = [lista_a] * 2\n",
        "lista_a[3] = 35\n",
        "print(lista_b)"
      ],
      "metadata": {
        "colab": {
          "base_uri": "https://localhost:8080/"
        },
        "id": "GYB-XQblyHmR",
        "outputId": "57ff2803-d30b-46e2-b3e2-4d5b54b15599"
      },
      "execution_count": 45,
      "outputs": [
        {
          "output_type": "stream",
          "name": "stdout",
          "text": [
            "[4, 1, 8, 6, 3]\n",
            "[[4, 1, 8, 35, 3], [4, 1, 8, 35, 3]]\n"
          ]
        }
      ]
    },
    {
      "cell_type": "code",
      "source": [
        "uma_lista = [4, 1, 8, 6, 3]\n",
        "uma_lista.append(True)   #add elemento ao final da lista\n",
        "uma_lista.append(False)\n",
        "print(uma_lista)"
      ],
      "metadata": {
        "colab": {
          "base_uri": "https://localhost:8080/"
        },
        "id": "sdiPrni0yQsW",
        "outputId": "ef129b32-996c-42ab-8be8-199939f3cd5f"
      },
      "execution_count": 47,
      "outputs": [
        {
          "output_type": "stream",
          "name": "stdout",
          "text": [
            "[4, 1, 8, 6, 3, True, False]\n"
          ]
        }
      ]
    },
    {
      "cell_type": "code",
      "source": [
        "uma_lista = [4, 1, 8, 6, 3]\n",
        "uma_lista.insert(2,True)\n",
        "uma_lista.insert(0,False)  # add o elemento ao indice que você queira. \n",
        "print(uma_lista)"
      ],
      "metadata": {
        "colab": {
          "base_uri": "https://localhost:8080/"
        },
        "id": "57zKqQM-yptO",
        "outputId": "55de9040-56f1-48ce-ce51-62f0c54d35e4"
      },
      "execution_count": 49,
      "outputs": [
        {
          "output_type": "stream",
          "name": "stdout",
          "text": [
            "[False, 4, 1, True, 8, 6, 3]\n"
          ]
        }
      ]
    },
    {
      "cell_type": "code",
      "source": [
        "uma_lista = [4, 1, 8, 6, 3]\n",
        "temp = uma_lista.pop(2) #usado para exluir elementos (geralmento o ultimo porém você pode informar o indice que desejar)\n",
        "temp = uma_lista.pop()\n",
        "print(uma_lista)"
      ],
      "metadata": {
        "colab": {
          "base_uri": "https://localhost:8080/"
        },
        "id": "2ZK6pfdwy4eA",
        "outputId": "f63378a4-8a3a-47cf-f7cf-ce9cc9b8cad4"
      },
      "execution_count": 50,
      "outputs": [
        {
          "output_type": "stream",
          "name": "stdout",
          "text": [
            "[4, 1, 6]\n"
          ]
        }
      ]
    },
    {
      "cell_type": "code",
      "source": [
        "uma_lista = [4, 1, 8, 6, 3]\n",
        "uma_lista = uma_lista.pop(0) \n",
        "print(uma_lista)"
      ],
      "metadata": {
        "colab": {
          "base_uri": "https://localhost:8080/"
        },
        "id": "hDTyyP5EzODE",
        "outputId": "9afc409c-7b53-4382-bca2-421f8cde8fec"
      },
      "execution_count": 51,
      "outputs": [
        {
          "output_type": "stream",
          "name": "stdout",
          "text": [
            "4\n"
          ]
        }
      ]
    },
    {
      "cell_type": "code",
      "source": [],
      "metadata": {
        "id": "YUhnkV-WzkBT"
      },
      "execution_count": null,
      "outputs": []
    }
  ]
}